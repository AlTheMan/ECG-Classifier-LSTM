{
 "cells": [
  {
   "cell_type": "markdown",
   "id": "f6041f4e-5d12-41c2-8af3-fa80e9856c36",
   "metadata": {},
   "source": [
    "# Neural Network - Time Series - ECG\n"
   ]
  },
  {
   "cell_type": "markdown",
   "id": "9f2ad35a-22de-4246-b6d4-f10eb303f96a",
   "metadata": {},
   "source": [
    "Authors:  \n",
    "Algot von Reybekiel"
   ]
  },
  {
   "cell_type": "markdown",
   "id": "8ac8099a-0299-4209-842b-4f8c3306aa8b",
   "metadata": {},
   "source": [
    "## Imports"
   ]
  },
  {
   "cell_type": "code",
   "execution_count": 2,
   "id": "034a53e5-045e-4293-b55d-a99efbce5bd8",
   "metadata": {},
   "outputs": [],
   "source": [
    "import numpy as np\n",
    "import pandas as pd \n",
    "import matplotlib as mp\n",
    "import sklearn as sk\n",
    "import matplotlib.pyplot as plt\n",
    "import seaborn as sns\n",
    "import wfdb\n",
    "import ast\n",
    "import utility_functions as utility\n",
    "import torch\n",
    "import time "
   ]
  },
  {
   "cell_type": "code",
   "execution_count": 3,
   "id": "b2389ad8-7d1d-4581-82be-5f60361799a1",
   "metadata": {},
   "outputs": [
    {
     "data": {
      "text/plain": [
       "<module 'utility_functions' from 'C:\\\\Users\\\\algot\\\\ML_python\\\\assignment2\\\\utility_functions.py'>"
      ]
     },
     "execution_count": 3,
     "metadata": {},
     "output_type": "execute_result"
    }
   ],
   "source": [
    "import importlib\n",
    "#Reloads my utility module (is used after updating its methods)\n",
    "importlib.reload(utility)"
   ]
  },
  {
   "cell_type": "markdown",
   "id": "7b3d2639-65d8-4c85-8ad3-b7993ecb6105",
   "metadata": {},
   "source": [
    "## Load Data"
   ]
  },
  {
   "cell_type": "markdown",
   "id": "7552e644-4d13-4422-b909-4eb3326cf8eb",
   "metadata": {},
   "source": [
    "(DONT READ THIS): Note for myself: wfdb.rdrecord: it automatically loads both the .hea (header file) and the .dat (data file) associated with the record. The .hea file contains metadata about the recording, such as the number of signals, the sampling frequency, and the names of the data files, while the .dat file contains the actual signal data."
   ]
  },
  {
   "cell_type": "markdown",
   "id": "5e9b721a-cb99-4098-8b25-5c2a475c7858",
   "metadata": {},
   "source": [
    "Loads in data"
   ]
  },
  {
   "cell_type": "code",
   "execution_count": 4,
   "id": "ed14b333-3671-4ea8-ae41-59cf6564b448",
   "metadata": {},
   "outputs": [],
   "source": [
    "path = ''   #path/to/ptbxl\n",
    "sampling_rate=100\n",
    "\n",
    "# load and convert annotation data\n",
    "Y = pd.read_csv(path+'ptbxl_database.csv', index_col='ecg_id')\n",
    "Y.scp_codes = Y.scp_codes.apply(lambda x: ast.literal_eval(x))"
   ]
  },
  {
   "cell_type": "code",
   "execution_count": 5,
   "id": "3d92d3de-593f-41aa-88d1-1c2ba8d89ee7",
   "metadata": {},
   "outputs": [],
   "source": [
    "# Load raw signal data\n",
    "X = utility.load_raw_data(Y, sampling_rate, path)\n",
    "\n",
    "# Load scp_statements.csv for diagnostic aggregation\n",
    "agg_df = pd.read_csv(path+'scp_statements.csv', index_col=0)\n",
    "agg_df = agg_df[agg_df.diagnostic == 1]"
   ]
  },
  {
   "cell_type": "code",
   "execution_count": 6,
   "id": "12d08cfc-b19d-4062-a716-98ff4a5c3c7c",
   "metadata": {},
   "outputs": [],
   "source": [
    "# Apply diagnostic superclass\n",
    "Y['diagnostic_superclass'] = Y.scp_codes.apply(lambda x: utility.aggregate_diagnostic(x, agg_df))"
   ]
  },
  {
   "cell_type": "code",
   "execution_count": 7,
   "id": "290c8302-dcd0-4306-8eef-4f3196b6a085",
   "metadata": {},
   "outputs": [
    {
     "name": "stdout",
     "output_type": "stream",
     "text": [
      "nr of empty lists: 407\n",
      "percent of empty lists in relation to all lists: 1.8638091312909282 %\n"
     ]
    }
   ],
   "source": [
    "#printing nr of empty lists\n",
    "num_empty_lists = Y['diagnostic_superclass'].apply(lambda x: len(x) == 0).sum()\n",
    "total_elements = Y['diagnostic_superclass'].apply(lambda x: len(x) >= 0).sum()\n",
    "print(\"nr of empty lists:\",num_empty_lists)\n",
    "print(\"percent of empty lists in relation to all lists:\",num_empty_lists*100/total_elements, \"%\")"
   ]
  },
  {
   "cell_type": "markdown",
   "id": "56916d19-3320-4eb1-a5dd-fc4238c0604a",
   "metadata": {},
   "source": [
    "I Remove all empty lists in Y and remove the X elements corresponding to the removed Y elements. I do this because there's so few entries that are empty, only 1,8%. And I could not find any information about these entries so it was difficult to assess the usefulness of them. And I thought they'd just introduce noise into the model. You could argue that the information is worth keeping however, and separate them into an 'unknown'-label."
   ]
  },
  {
   "cell_type": "code",
   "execution_count": 8,
   "id": "8b706523-5a89-4091-add2-8d2f0704a0de",
   "metadata": {},
   "outputs": [],
   "source": [
    "# Remove rows with empty 'diagnostic_superclass' lists from Y\n",
    "Y_filtered = Y[Y['diagnostic_superclass'].apply(lambda x: len(x) > 0)]\n",
    "Y_filtered  = Y_filtered.reset_index(drop=True)"
   ]
  },
  {
   "cell_type": "code",
   "execution_count": 9,
   "id": "b19c0b69-5e9f-4724-bf12-9bfb156b996c",
   "metadata": {},
   "outputs": [],
   "source": [
    "# Load raw signal data corresponding to filtered Y values.\n",
    "X_filtered = utility.load_raw_data(Y_filtered, sampling_rate, path)\n",
    "\n",
    "# Load scp_statements.csv for diagnostic aggregation\n",
    "agg_df = pd.read_csv(path+'scp_statements.csv', index_col=0)\n",
    "agg_df = agg_df[agg_df.diagnostic == 1]\n",
    "#alternatively, convert X to df, then remove \n",
    "#corresponding entries through indexes from filtered_y, then convert back to numpy array"
   ]
  },
  {
   "cell_type": "code",
   "execution_count": 10,
   "id": "807258a0-5a1a-4f3e-ae91-f4993d4b3d1f",
   "metadata": {},
   "outputs": [
    {
     "name": "stdout",
     "output_type": "stream",
     "text": [
      "The filtered datasets have the same length.\n"
     ]
    }
   ],
   "source": [
    "#checking that X and Y are the same length after filtering:\n",
    "\n",
    "if len(Y_filtered) == len(X_filtered):\n",
    "    print(\"The filtered datasets have the same length.\")"
   ]
  },
  {
   "cell_type": "markdown",
   "id": "7b59171a-eb5f-4f92-8e91-3006d9ab40b5",
   "metadata": {},
   "source": [
    "I'm reducing the amount of data used in every entry in X, due to me having a slow computer. I tested with and without using the filtered X value, and the output of the model wasn't changed significantly."
   ]
  },
  {
   "cell_type": "code",
   "execution_count": 11,
   "id": "359955d3-18db-4094-be0e-5910a5d94849",
   "metadata": {},
   "outputs": [],
   "source": [
    "#reducing data in X\n",
    "X_small = X_filtered[:, :200, :,]"
   ]
  },
  {
   "cell_type": "code",
   "execution_count": 13,
   "id": "09b80602-18b9-4c35-b320-658ea78607aa",
   "metadata": {},
   "outputs": [],
   "source": [
    "#create copies of X,Y\n",
    "Y_copy = Y_filtered.copy()\n",
    "X_copy = X_small.copy()"
   ]
  },
  {
   "cell_type": "code",
   "execution_count": 162,
   "id": "485acfa9-4afd-409b-a439-6c0d2ca1fd83",
   "metadata": {},
   "outputs": [],
   "source": [
    "# reset the index to ensure it's continuous and starts from 0\n",
    "Y_copy.reset_index(drop=True, inplace=True)"
   ]
  },
  {
   "cell_type": "code",
   "execution_count": 163,
   "id": "a5101828-5628-4c0a-b234-503c33882407",
   "metadata": {},
   "outputs": [],
   "source": [
    "#tabular data for merging with X. I'll process y_tab later.\n",
    "y_tab = Y_copy.copy() "
   ]
  },
  {
   "cell_type": "code",
   "execution_count": 154,
   "id": "d3ee7df3-47d8-465c-9e2d-861685827ba0",
   "metadata": {
    "collapsed": true,
    "jupyter": {
     "outputs_hidden": true
    }
   },
   "outputs": [
    {
     "data": {
      "text/plain": [
       "diagnostic_superclass\n",
       "[NORM]                 9083\n",
       "[MI]                   2538\n",
       "[STTC]                 2406\n",
       "[CD]                   1709\n",
       "[MI, CD]               1302\n",
       "[HYP, STTC]             783\n",
       "[MI, STTC]              602\n",
       "[HYP]                   536\n",
       "[CD, STTC]              472\n",
       "[CD, NORM]              407\n",
       "[MI, HYP, STTC]         362\n",
       "[CD, HYP]               238\n",
       "[MI, CD, STTC]          223\n",
       "[MI, HYP]               183\n",
       "[HYP, STTC, CD]         113\n",
       "[MI, HYP, STTC, CD]     104\n",
       "[MI, CD, HYP]            98\n",
       "[CD, STTC, HYP]          98\n",
       "[HYP, CD]                62\n",
       "[MI, CD, STTC, HYP]      54\n",
       "[STTC, NORM]             28\n",
       "[MI, HYP, CD]            19\n",
       "[CD, NORM, STTC]          5\n",
       "[CD, NORM, HYP]           2\n",
       "[HYP, NORM]               2\n",
       "[MI, CD, NORM, HYP]       1\n",
       "Name: count, dtype: int64"
      ]
     },
     "execution_count": 154,
     "metadata": {},
     "output_type": "execute_result"
    }
   ],
   "source": [
    "Y_copy.diagnostic_superclass.value_counts()"
   ]
  },
  {
   "cell_type": "markdown",
   "id": "ddbc1dc2-00bf-48f5-8a6e-0f6d9a2e0d76",
   "metadata": {},
   "source": [
    "I tested removing the rare cases like [STTC, NORM, CD], \n",
    "[NORM, CD, HYP,\r\n",
    "[NORM, HY,2\r\n",
    "[NORM, MI, CD, H. However it did not signiciantly impact the model, so i'm leaving them be. Also, it might be good to include rare cases as well. The benefit of using label-classification is that the rare cases don't introduce more classes. Using label-classificatn therefore perhaps tolerates more rare cases.. "
   ]
  },
  {
   "cell_type": "markdown",
   "id": "dcf89d0e-4b8b-4aa3-a00e-a924516dcf62",
   "metadata": {},
   "source": [
    "## Encode Y"
   ]
  },
  {
   "cell_type": "markdown",
   "id": "00981732-c3f6-430d-88ec-39a6fb55c6da",
   "metadata": {},
   "source": [
    "One-hot Encoding with Multiple Labels\n",
    "What i'm doing:\n",
    "1.Flatten the Labels: First, create a set of all unique labels across all samples, disregarding the list structure.\n",
    "2.Create a Binary Vector for Each Sample\n",
    "\n",
    "MultiLabelBinarizer is designed to handle cases where each sample can belong to multiple categories, which makes it good for the diagnostic_superclass data."
   ]
  },
  {
   "cell_type": "code",
   "execution_count": 14,
   "id": "87a20e96-4b2e-42a3-bfb6-ee93a67f60a7",
   "metadata": {},
   "outputs": [],
   "source": [
    "from sklearn.preprocessing import MultiLabelBinarizer\n",
    "\n",
    "# (Y_copy.diagnostic_superclass contains the lists of labels)\n",
    "\n",
    "# Flatten the list of labels and remove duplicates\n",
    "all_labels = set(label for sublist in Y_copy.diagnostic_superclass for label in sublist)\n",
    "\n",
    "# Initialize MultiLabelBinarizer\n",
    "mlb = MultiLabelBinarizer(classes=sorted(all_labels))\n",
    "\n",
    "# Fit and transform the labels to one-hot encoded format\n",
    "# Note: This step automatically removes empty lists and treats them as samples with no labels\n",
    "Y_encoded = mlb.fit_transform(Y_copy.diagnostic_superclass)\n",
    "\n",
    "# Convert the encoded labels back to a DataFrame for easier handling\n",
    "Y_encoded_df = pd.DataFrame(Y_encoded, columns=mlb.classes_, index=Y_copy.index)\n",
    "\n",
    "# Now, Y_encoded_df is a DataFrame where each column represents a unique label (diagnostic_superclass)\n",
    "# and each row has binary indicators for the presence of each label.\n",
    "\n",
    "#reset index for Y_encoded_df\n",
    "Y_encoded_df = Y_encoded_df.reset_index(drop=True) #is never used"
   ]
  },
  {
   "cell_type": "markdown",
   "id": "1bcf6467-ca69-41ff-bca7-72122d7c3775",
   "metadata": {},
   "source": [
    "## Data Cleaning for tabular data"
   ]
  },
  {
   "cell_type": "code",
   "execution_count": 164,
   "id": "913f6265-7169-4b09-aba9-5b695788fcac",
   "metadata": {
    "collapsed": true,
    "jupyter": {
     "outputs_hidden": true
    }
   },
   "outputs": [
    {
     "data": {
      "text/html": [
       "<div>\n",
       "<style scoped>\n",
       "    .dataframe tbody tr th:only-of-type {\n",
       "        vertical-align: middle;\n",
       "    }\n",
       "\n",
       "    .dataframe tbody tr th {\n",
       "        vertical-align: top;\n",
       "    }\n",
       "\n",
       "    .dataframe thead th {\n",
       "        text-align: right;\n",
       "    }\n",
       "</style>\n",
       "<table border=\"1\" class=\"dataframe\">\n",
       "  <thead>\n",
       "    <tr style=\"text-align: right;\">\n",
       "      <th></th>\n",
       "      <th>patient_id</th>\n",
       "      <th>age</th>\n",
       "      <th>sex</th>\n",
       "      <th>height</th>\n",
       "      <th>weight</th>\n",
       "      <th>nurse</th>\n",
       "      <th>site</th>\n",
       "      <th>device</th>\n",
       "      <th>recording_date</th>\n",
       "      <th>report</th>\n",
       "      <th>...</th>\n",
       "      <th>baseline_drift</th>\n",
       "      <th>static_noise</th>\n",
       "      <th>burst_noise</th>\n",
       "      <th>electrodes_problems</th>\n",
       "      <th>extra_beats</th>\n",
       "      <th>pacemaker</th>\n",
       "      <th>strat_fold</th>\n",
       "      <th>filename_lr</th>\n",
       "      <th>filename_hr</th>\n",
       "      <th>diagnostic_superclass</th>\n",
       "    </tr>\n",
       "  </thead>\n",
       "  <tbody>\n",
       "    <tr>\n",
       "      <th>0</th>\n",
       "      <td>15709.0</td>\n",
       "      <td>56.0</td>\n",
       "      <td>1</td>\n",
       "      <td>NaN</td>\n",
       "      <td>63.0</td>\n",
       "      <td>2.0</td>\n",
       "      <td>0.0</td>\n",
       "      <td>CS-12   E</td>\n",
       "      <td>1984-11-09 09:17:34</td>\n",
       "      <td>sinusrhythmus periphere niederspannung</td>\n",
       "      <td>...</td>\n",
       "      <td>NaN</td>\n",
       "      <td>, I-V1,</td>\n",
       "      <td>NaN</td>\n",
       "      <td>NaN</td>\n",
       "      <td>NaN</td>\n",
       "      <td>NaN</td>\n",
       "      <td>3</td>\n",
       "      <td>records100/00000/00001_lr</td>\n",
       "      <td>records500/00000/00001_hr</td>\n",
       "      <td>[NORM]</td>\n",
       "    </tr>\n",
       "    <tr>\n",
       "      <th>1</th>\n",
       "      <td>13243.0</td>\n",
       "      <td>19.0</td>\n",
       "      <td>0</td>\n",
       "      <td>NaN</td>\n",
       "      <td>70.0</td>\n",
       "      <td>2.0</td>\n",
       "      <td>0.0</td>\n",
       "      <td>CS-12   E</td>\n",
       "      <td>1984-11-14 12:55:37</td>\n",
       "      <td>sinusbradykardie sonst normales ekg</td>\n",
       "      <td>...</td>\n",
       "      <td>NaN</td>\n",
       "      <td>NaN</td>\n",
       "      <td>NaN</td>\n",
       "      <td>NaN</td>\n",
       "      <td>NaN</td>\n",
       "      <td>NaN</td>\n",
       "      <td>2</td>\n",
       "      <td>records100/00000/00002_lr</td>\n",
       "      <td>records500/00000/00002_hr</td>\n",
       "      <td>[NORM]</td>\n",
       "    </tr>\n",
       "    <tr>\n",
       "      <th>2</th>\n",
       "      <td>20372.0</td>\n",
       "      <td>37.0</td>\n",
       "      <td>1</td>\n",
       "      <td>NaN</td>\n",
       "      <td>69.0</td>\n",
       "      <td>2.0</td>\n",
       "      <td>0.0</td>\n",
       "      <td>CS-12   E</td>\n",
       "      <td>1984-11-15 12:49:10</td>\n",
       "      <td>sinusrhythmus normales ekg</td>\n",
       "      <td>...</td>\n",
       "      <td>NaN</td>\n",
       "      <td>NaN</td>\n",
       "      <td>NaN</td>\n",
       "      <td>NaN</td>\n",
       "      <td>NaN</td>\n",
       "      <td>NaN</td>\n",
       "      <td>5</td>\n",
       "      <td>records100/00000/00003_lr</td>\n",
       "      <td>records500/00000/00003_hr</td>\n",
       "      <td>[NORM]</td>\n",
       "    </tr>\n",
       "    <tr>\n",
       "      <th>3</th>\n",
       "      <td>17014.0</td>\n",
       "      <td>24.0</td>\n",
       "      <td>0</td>\n",
       "      <td>NaN</td>\n",
       "      <td>82.0</td>\n",
       "      <td>2.0</td>\n",
       "      <td>0.0</td>\n",
       "      <td>CS-12   E</td>\n",
       "      <td>1984-11-15 13:44:57</td>\n",
       "      <td>sinusrhythmus normales ekg</td>\n",
       "      <td>...</td>\n",
       "      <td>, II,III,AVF</td>\n",
       "      <td>NaN</td>\n",
       "      <td>NaN</td>\n",
       "      <td>NaN</td>\n",
       "      <td>NaN</td>\n",
       "      <td>NaN</td>\n",
       "      <td>3</td>\n",
       "      <td>records100/00000/00004_lr</td>\n",
       "      <td>records500/00000/00004_hr</td>\n",
       "      <td>[NORM]</td>\n",
       "    </tr>\n",
       "    <tr>\n",
       "      <th>4</th>\n",
       "      <td>17448.0</td>\n",
       "      <td>19.0</td>\n",
       "      <td>1</td>\n",
       "      <td>NaN</td>\n",
       "      <td>70.0</td>\n",
       "      <td>2.0</td>\n",
       "      <td>0.0</td>\n",
       "      <td>CS-12   E</td>\n",
       "      <td>1984-11-17 10:43:15</td>\n",
       "      <td>sinusrhythmus normales ekg</td>\n",
       "      <td>...</td>\n",
       "      <td>, III,AVR,AVF</td>\n",
       "      <td>NaN</td>\n",
       "      <td>NaN</td>\n",
       "      <td>NaN</td>\n",
       "      <td>NaN</td>\n",
       "      <td>NaN</td>\n",
       "      <td>4</td>\n",
       "      <td>records100/00000/00005_lr</td>\n",
       "      <td>records500/00000/00005_hr</td>\n",
       "      <td>[NORM]</td>\n",
       "    </tr>\n",
       "    <tr>\n",
       "      <th>...</th>\n",
       "      <td>...</td>\n",
       "      <td>...</td>\n",
       "      <td>...</td>\n",
       "      <td>...</td>\n",
       "      <td>...</td>\n",
       "      <td>...</td>\n",
       "      <td>...</td>\n",
       "      <td>...</td>\n",
       "      <td>...</td>\n",
       "      <td>...</td>\n",
       "      <td>...</td>\n",
       "      <td>...</td>\n",
       "      <td>...</td>\n",
       "      <td>...</td>\n",
       "      <td>...</td>\n",
       "      <td>...</td>\n",
       "      <td>...</td>\n",
       "      <td>...</td>\n",
       "      <td>...</td>\n",
       "      <td>...</td>\n",
       "      <td>...</td>\n",
       "    </tr>\n",
       "    <tr>\n",
       "      <th>21425</th>\n",
       "      <td>17180.0</td>\n",
       "      <td>67.0</td>\n",
       "      <td>1</td>\n",
       "      <td>NaN</td>\n",
       "      <td>NaN</td>\n",
       "      <td>1.0</td>\n",
       "      <td>2.0</td>\n",
       "      <td>AT-60    3</td>\n",
       "      <td>2001-05-31 09:14:35</td>\n",
       "      <td>ventrikulÄre extrasystole(n) sinustachykardie ...</td>\n",
       "      <td>...</td>\n",
       "      <td>NaN</td>\n",
       "      <td>, alles,</td>\n",
       "      <td>NaN</td>\n",
       "      <td>NaN</td>\n",
       "      <td>1ES</td>\n",
       "      <td>NaN</td>\n",
       "      <td>7</td>\n",
       "      <td>records100/21000/21833_lr</td>\n",
       "      <td>records500/21000/21833_hr</td>\n",
       "      <td>[STTC]</td>\n",
       "    </tr>\n",
       "    <tr>\n",
       "      <th>21426</th>\n",
       "      <td>20703.0</td>\n",
       "      <td>93.0</td>\n",
       "      <td>0</td>\n",
       "      <td>NaN</td>\n",
       "      <td>NaN</td>\n",
       "      <td>1.0</td>\n",
       "      <td>2.0</td>\n",
       "      <td>AT-60    3</td>\n",
       "      <td>2001-06-05 11:33:39</td>\n",
       "      <td>sinusrhythmus lagetyp normal qrs(t) abnorm    ...</td>\n",
       "      <td>...</td>\n",
       "      <td>NaN</td>\n",
       "      <td>NaN</td>\n",
       "      <td>NaN</td>\n",
       "      <td>NaN</td>\n",
       "      <td>NaN</td>\n",
       "      <td>NaN</td>\n",
       "      <td>4</td>\n",
       "      <td>records100/21000/21834_lr</td>\n",
       "      <td>records500/21000/21834_hr</td>\n",
       "      <td>[NORM]</td>\n",
       "    </tr>\n",
       "    <tr>\n",
       "      <th>21427</th>\n",
       "      <td>19311.0</td>\n",
       "      <td>59.0</td>\n",
       "      <td>1</td>\n",
       "      <td>NaN</td>\n",
       "      <td>NaN</td>\n",
       "      <td>1.0</td>\n",
       "      <td>2.0</td>\n",
       "      <td>AT-60    3</td>\n",
       "      <td>2001-06-08 10:30:27</td>\n",
       "      <td>sinusrhythmus lagetyp normal t abnorm in anter...</td>\n",
       "      <td>...</td>\n",
       "      <td>NaN</td>\n",
       "      <td>, I-AVR,</td>\n",
       "      <td>NaN</td>\n",
       "      <td>NaN</td>\n",
       "      <td>NaN</td>\n",
       "      <td>NaN</td>\n",
       "      <td>2</td>\n",
       "      <td>records100/21000/21835_lr</td>\n",
       "      <td>records500/21000/21835_hr</td>\n",
       "      <td>[STTC]</td>\n",
       "    </tr>\n",
       "    <tr>\n",
       "      <th>21428</th>\n",
       "      <td>8873.0</td>\n",
       "      <td>64.0</td>\n",
       "      <td>1</td>\n",
       "      <td>NaN</td>\n",
       "      <td>NaN</td>\n",
       "      <td>1.0</td>\n",
       "      <td>2.0</td>\n",
       "      <td>AT-60    3</td>\n",
       "      <td>2001-06-09 18:21:49</td>\n",
       "      <td>supraventrikulÄre extrasystole(n) sinusrhythmu...</td>\n",
       "      <td>...</td>\n",
       "      <td>NaN</td>\n",
       "      <td>NaN</td>\n",
       "      <td>NaN</td>\n",
       "      <td>NaN</td>\n",
       "      <td>SVES</td>\n",
       "      <td>NaN</td>\n",
       "      <td>8</td>\n",
       "      <td>records100/21000/21836_lr</td>\n",
       "      <td>records500/21000/21836_hr</td>\n",
       "      <td>[NORM]</td>\n",
       "    </tr>\n",
       "    <tr>\n",
       "      <th>21429</th>\n",
       "      <td>11744.0</td>\n",
       "      <td>68.0</td>\n",
       "      <td>0</td>\n",
       "      <td>NaN</td>\n",
       "      <td>NaN</td>\n",
       "      <td>1.0</td>\n",
       "      <td>2.0</td>\n",
       "      <td>AT-60    3</td>\n",
       "      <td>2001-06-11 16:43:01</td>\n",
       "      <td>sinusrhythmus p-sinistrocardiale lagetyp norma...</td>\n",
       "      <td>...</td>\n",
       "      <td>NaN</td>\n",
       "      <td>, I-AVL,</td>\n",
       "      <td>NaN</td>\n",
       "      <td>NaN</td>\n",
       "      <td>NaN</td>\n",
       "      <td>NaN</td>\n",
       "      <td>9</td>\n",
       "      <td>records100/21000/21837_lr</td>\n",
       "      <td>records500/21000/21837_hr</td>\n",
       "      <td>[NORM]</td>\n",
       "    </tr>\n",
       "  </tbody>\n",
       "</table>\n",
       "<p>21430 rows × 28 columns</p>\n",
       "</div>"
      ],
      "text/plain": [
       "       patient_id   age  sex  height  weight  nurse  site      device  \\\n",
       "0         15709.0  56.0    1     NaN    63.0    2.0   0.0   CS-12   E   \n",
       "1         13243.0  19.0    0     NaN    70.0    2.0   0.0   CS-12   E   \n",
       "2         20372.0  37.0    1     NaN    69.0    2.0   0.0   CS-12   E   \n",
       "3         17014.0  24.0    0     NaN    82.0    2.0   0.0   CS-12   E   \n",
       "4         17448.0  19.0    1     NaN    70.0    2.0   0.0   CS-12   E   \n",
       "...           ...   ...  ...     ...     ...    ...   ...         ...   \n",
       "21425     17180.0  67.0    1     NaN     NaN    1.0   2.0  AT-60    3   \n",
       "21426     20703.0  93.0    0     NaN     NaN    1.0   2.0  AT-60    3   \n",
       "21427     19311.0  59.0    1     NaN     NaN    1.0   2.0  AT-60    3   \n",
       "21428      8873.0  64.0    1     NaN     NaN    1.0   2.0  AT-60    3   \n",
       "21429     11744.0  68.0    0     NaN     NaN    1.0   2.0  AT-60    3   \n",
       "\n",
       "            recording_date                                             report  \\\n",
       "0      1984-11-09 09:17:34             sinusrhythmus periphere niederspannung   \n",
       "1      1984-11-14 12:55:37                sinusbradykardie sonst normales ekg   \n",
       "2      1984-11-15 12:49:10                         sinusrhythmus normales ekg   \n",
       "3      1984-11-15 13:44:57                         sinusrhythmus normales ekg   \n",
       "4      1984-11-17 10:43:15                         sinusrhythmus normales ekg   \n",
       "...                    ...                                                ...   \n",
       "21425  2001-05-31 09:14:35  ventrikulÄre extrasystole(n) sinustachykardie ...   \n",
       "21426  2001-06-05 11:33:39  sinusrhythmus lagetyp normal qrs(t) abnorm    ...   \n",
       "21427  2001-06-08 10:30:27  sinusrhythmus lagetyp normal t abnorm in anter...   \n",
       "21428  2001-06-09 18:21:49  supraventrikulÄre extrasystole(n) sinusrhythmu...   \n",
       "21429  2001-06-11 16:43:01  sinusrhythmus p-sinistrocardiale lagetyp norma...   \n",
       "\n",
       "       ...  baseline_drift static_noise burst_noise electrodes_problems  \\\n",
       "0      ...             NaN    , I-V1,           NaN                 NaN   \n",
       "1      ...             NaN          NaN         NaN                 NaN   \n",
       "2      ...             NaN          NaN         NaN                 NaN   \n",
       "3      ...    , II,III,AVF          NaN         NaN                 NaN   \n",
       "4      ...   , III,AVR,AVF          NaN         NaN                 NaN   \n",
       "...    ...             ...          ...         ...                 ...   \n",
       "21425  ...             NaN   , alles,           NaN                 NaN   \n",
       "21426  ...             NaN          NaN         NaN                 NaN   \n",
       "21427  ...             NaN   , I-AVR,           NaN                 NaN   \n",
       "21428  ...             NaN          NaN         NaN                 NaN   \n",
       "21429  ...             NaN   , I-AVL,           NaN                 NaN   \n",
       "\n",
       "       extra_beats  pacemaker  strat_fold                filename_lr  \\\n",
       "0              NaN        NaN           3  records100/00000/00001_lr   \n",
       "1              NaN        NaN           2  records100/00000/00002_lr   \n",
       "2              NaN        NaN           5  records100/00000/00003_lr   \n",
       "3              NaN        NaN           3  records100/00000/00004_lr   \n",
       "4              NaN        NaN           4  records100/00000/00005_lr   \n",
       "...            ...        ...         ...                        ...   \n",
       "21425          1ES        NaN           7  records100/21000/21833_lr   \n",
       "21426          NaN        NaN           4  records100/21000/21834_lr   \n",
       "21427          NaN        NaN           2  records100/21000/21835_lr   \n",
       "21428         SVES        NaN           8  records100/21000/21836_lr   \n",
       "21429          NaN        NaN           9  records100/21000/21837_lr   \n",
       "\n",
       "                     filename_hr diagnostic_superclass  \n",
       "0      records500/00000/00001_hr                [NORM]  \n",
       "1      records500/00000/00002_hr                [NORM]  \n",
       "2      records500/00000/00003_hr                [NORM]  \n",
       "3      records500/00000/00004_hr                [NORM]  \n",
       "4      records500/00000/00005_hr                [NORM]  \n",
       "...                          ...                   ...  \n",
       "21425  records500/21000/21833_hr                [STTC]  \n",
       "21426  records500/21000/21834_hr                [NORM]  \n",
       "21427  records500/21000/21835_hr                [STTC]  \n",
       "21428  records500/21000/21836_hr                [NORM]  \n",
       "21429  records500/21000/21837_hr                [NORM]  \n",
       "\n",
       "[21430 rows x 28 columns]"
      ]
     },
     "execution_count": 164,
     "metadata": {},
     "output_type": "execute_result"
    }
   ],
   "source": [
    "y_tab"
   ]
  },
  {
   "cell_type": "code",
   "execution_count": 206,
   "id": "ffcdd2aa-238a-441d-82ea-e7c4a807040d",
   "metadata": {},
   "outputs": [
    {
     "name": "stdout",
     "output_type": "stream",
     "text": [
      "            Null Counts  Percentage\n",
      "age                  85    0.396640\n",
      "sex                   0    0.000000\n",
      "height            14503   67.676155\n",
      "weight            12056   56.257583\n",
      "site                 17    0.079328\n",
      "device                0    0.000000\n",
      "heart_axis            0    0.000000\n"
     ]
    }
   ],
   "source": [
    "\n",
    "#show null values for y_tab\n",
    "\n",
    "null_counts = y_tab.isnull().sum()\n",
    "\n",
    "# Calculate the percentage of total values that are null for each column\n",
    "null_percentage = (y_tab.isnull().sum() / len(y_tab)) * 100\n",
    "\n",
    "# Combine the counts and percentages into a single DataFrame for a clearer view\n",
    "null_stats = pd.DataFrame({'Null Counts': null_counts, 'Percentage': null_percentage})\n",
    "\n",
    "# Display the stats\n",
    "print(null_stats)"
   ]
  },
  {
   "cell_type": "markdown",
   "id": "747622b9-01a7-42c3-9f78-9fb69c5544b2",
   "metadata": {},
   "source": [
    "I removed columns with high % null values, as well as other unecessary pieces of information such as id, filenames, also 'report' and 'diagnostic superclass' which we must remove. I'm keeping height and weight even though they have high % of null values, as I believe you can impute them more easily than the other columns. You could infer average height from age, sex and weight, and average weight from height, age and sex."
   ]
  },
  {
   "cell_type": "code",
   "execution_count": 171,
   "id": "4d158ae6-da4d-41fe-80d7-9bf3ef1fb120",
   "metadata": {},
   "outputs": [],
   "source": [
    "\n",
    "y_tab = y_tab.drop(['infarction_stadium1', 'infarction_stadium2','baseline_drift',\n",
    "                   'burst_noise', 'electrodes_problems', 'extra_beats', \n",
    "                    'pacemaker', 'filename_lr', 'filename_hr',  'diagnostic_superclass',\n",
    "                   'patient_id', 'static_noise', 'scp_codes', 'report',\n",
    "                   'strat_fold'], axis=1)"
   ]
  },
  {
   "cell_type": "markdown",
   "id": "a9db4596-8f65-4a9c-9425-99bea1f17b17",
   "metadata": {},
   "source": [
    "Here I'm removing things which I dont think have much to do with your ECG results. E.g. which nurse the patient was validated by shouldn't affect which diagnosis you have. And even if it does have an effect on the output of the model, we don't want that information as we want our model to be more generalizeable, not just predicting the bias each nurse adds. Some things like 'second_opinion', and 'validated_by_human' could have an affect though.\n",
    "\n",
    "I also removed recording_date, as it had too many non-INT entries. In recording_date, you could break the entries down to smaller time chunks though, like year, month, day, hour in order to keep the data."
   ]
  },
  {
   "cell_type": "code",
   "execution_count": 189,
   "id": "606dd283-86dd-4e81-8c99-9a442da46da7",
   "metadata": {},
   "outputs": [],
   "source": [
    "#dropping columns\n",
    "y_tab = y_tab.drop(['recording_date','nurse', 'validated_by'], axis=1)\n",
    "y_tab = y_tab.drop(['second_opinion','initial_autogenerated_report', 'validated_by_human'], axis=1)"
   ]
  },
  {
   "cell_type": "code",
   "execution_count": 190,
   "id": "5b6de4d2-d3be-4528-ab4d-52132baf10a1",
   "metadata": {},
   "outputs": [
    {
     "data": {
      "text/plain": [
       "age           float64\n",
       "sex             int64\n",
       "height        float64\n",
       "weight        float64\n",
       "site          float64\n",
       "device         object\n",
       "heart_axis     object\n",
       "dtype: object"
      ]
     },
     "execution_count": 190,
     "metadata": {},
     "output_type": "execute_result"
    }
   ],
   "source": [
    "y_tab.dtypes\n",
    "#for column in y_tab.columns:\n",
    "#    print(f\"Unique values in '{column}': {y_tab[column].unique()}\")"
   ]
  },
  {
   "cell_type": "code",
   "execution_count": 193,
   "id": "55852a48-b2c0-4902-9ca3-8a1596560a17",
   "metadata": {},
   "outputs": [],
   "source": [
    "from sklearn.preprocessing import LabelEncoder\n",
    "#encode columns with object type in y_tab and save it to y_tab2\n",
    "\n",
    "y_tab2=y_tab.copy()\n",
    "# Initialize the encoder\n",
    "encoder = LabelEncoder()\n",
    "# Apply the encoder to the 'device' column\n",
    "y_tab2['device'] = encoder.fit_transform(y_tab['device'])\n",
    "#save the mapping or the encoder itself for inverse transforming or future use\n",
    "device_mapping = {index: label for index, label in enumerate(encoder.classes_)}\n",
    "\n",
    "# Apply the encoder to the 'heart_axis' column\n",
    "y_tab2['heart_axis'] = encoder.fit_transform(y_tab['heart_axis'])\n",
    "heart_axis_mapping = {index: label for index, label in enumerate(encoder.classes_)}\n"
   ]
  },
  {
   "cell_type": "code",
   "execution_count": 194,
   "id": "9e7b394d-ada4-4192-a3b5-822f11450ee9",
   "metadata": {},
   "outputs": [
    {
     "data": {
      "text/plain": [
       "age           float64\n",
       "sex             int64\n",
       "height        float64\n",
       "weight        float64\n",
       "site          float64\n",
       "device          int32\n",
       "heart_axis      int32\n",
       "dtype: object"
      ]
     },
     "execution_count": 194,
     "metadata": {},
     "output_type": "execute_result"
    }
   ],
   "source": [
    "y_tab2.dtypes"
   ]
  },
  {
   "cell_type": "code",
   "execution_count": 204,
   "id": "68e78eb0-9a06-41bd-9d01-2cb2af5c0816",
   "metadata": {},
   "outputs": [],
   "source": [
    "#convert floats to int, but keep all Null values (for imputation)\n",
    "placeholder = -1 \n",
    "y_tab2['age'] = y_tab2['age'].replace(placeholder, pd.NA).astype('Int64')\n",
    "y_tab2['height'] = y_tab2['height'].replace(placeholder, pd.NA).astype('Int64')\n",
    "y_tab2['weight'] = y_tab2['weight'].replace(placeholder, pd.NA).astype('Int64')\n",
    "y_tab2['site'] = y_tab2['site'].replace(placeholder, pd.NA).astype('Int64')\n"
   ]
  },
  {
   "cell_type": "code",
   "execution_count": 205,
   "id": "76c1186e-8fd8-46a1-83d8-7c49e28538bb",
   "metadata": {},
   "outputs": [
    {
     "data": {
      "text/plain": [
       "age           Int64\n",
       "sex           int32\n",
       "height        Int64\n",
       "weight        Int64\n",
       "site          Int64\n",
       "device        int32\n",
       "heart_axis    int32\n",
       "dtype: object"
      ]
     },
     "execution_count": 205,
     "metadata": {},
     "output_type": "execute_result"
    }
   ],
   "source": [
    "y_tab2.dtypes"
   ]
  },
  {
   "cell_type": "markdown",
   "id": "37a79685-de85-4d08-a649-b93aca98600a",
   "metadata": {},
   "source": [
    "use imputator to find height, and weight, and age "
   ]
  },
  {
   "cell_type": "code",
   "execution_count": 209,
   "id": "61b32f76-35d6-4a87-a737-bbfe2bca2188",
   "metadata": {},
   "outputs": [],
   "source": [
    "from sklearn.impute import KNNImputer\n",
    "\n",
    "# Initialize the imputer\n",
    "imputer = KNNImputer(n_neighbors=5) \n",
    "\n",
    "# Fit the imputer and transform y_tab to fill in missing values\n",
    "y_tab_imputed = imputer.fit_transform(y_tab2)\n",
    "\n",
    "# in order to get the dataframe (not neccesary)\n",
    "y_tab_imputed_df = pd.DataFrame(y_tab_imputed, columns=y_tab2.columns, index=y_tab2.index)\n"
   ]
  },
  {
   "cell_type": "code",
   "execution_count": 211,
   "id": "408538dc-31bf-43ab-8609-531fd22bc9e8",
   "metadata": {},
   "outputs": [
    {
     "name": "stdout",
     "output_type": "stream",
     "text": [
      "            Null Counts  Percentage\n",
      "age                   0         0.0\n",
      "sex                   0         0.0\n",
      "height                0         0.0\n",
      "weight                0         0.0\n",
      "site                  0         0.0\n",
      "device                0         0.0\n",
      "heart_axis            0         0.0\n"
     ]
    }
   ],
   "source": [
    "\n",
    "#show null values for y_tab_imputed_df\n",
    "\n",
    "null_counts = y_tab_imputed_df.isnull().sum()\n",
    "\n",
    "# Calculate the percentage of total values that are null for each column\n",
    "null_percentage = (y_tab_imputed_df.isnull().sum() / len(y_tab)) * 100\n",
    "\n",
    "# Combine the counts and percentages into a single DataFrame for a clearer view\n",
    "null_stats = pd.DataFrame({'Null Counts': null_counts, 'Percentage': null_percentage})\n",
    "\n",
    "# Display the stats\n",
    "print(null_stats)"
   ]
  },
  {
   "cell_type": "markdown",
   "id": "e81ab2ef-8d82-44fe-be45-c1a833a5f6bc",
   "metadata": {},
   "source": [
    "checking validity of imputed values:\n",
    "they have similar distribution for age which is a good sign"
   ]
  },
  {
   "cell_type": "code",
   "execution_count": 213,
   "id": "96bc910f-74dc-492d-b3ce-86b94830fc48",
   "metadata": {},
   "outputs": [
    {
     "data": {
      "image/png": "[encoded data removed]",
      "text/plain": [
       "<Figure size 640x480 with 1 Axes>"
      ]
     },
     "metadata": {},
     "output_type": "display_data"
    }
   ],
   "source": [
    "y_tab2['age'].dropna().hist(alpha=0.5, label='Original')\n",
    "y_tab_imputed_df['age'].hist(alpha=0.5, label='Imputed')\n",
    "plt.legend()\n",
    "plt.show()"
   ]
  },
  {
   "cell_type": "code",
   "execution_count": 219,
   "id": "b9d19d94-997a-466b-813f-633f0ffcbe00",
   "metadata": {},
   "outputs": [
    {
     "name": "stdout",
     "output_type": "stream",
     "text": [
      "Index([    0,     1,     2,     3,     4,     5,     6,     7,     8,     9,\n",
      "       ...\n",
      "       21420, 21421, 21422, 21423, 21424, 21425, 21426, 21427, 21428, 21429],\n",
      "      dtype='int64', length=14812)\n"
     ]
    }
   ],
   "source": [
    "# Find indices with any missing value in y_tab2\n",
    "indices_with_missing_values = y_tab2[y_tab2.isnull().any(axis=1)].index\n",
    "# Print the indices\n",
    "print(indices_with_missing_values)"
   ]
  },
  {
   "cell_type": "markdown",
   "id": "9f27b0d7-4789-4af9-bf28-37f55fa9b670",
   "metadata": {},
   "source": [
    "using these indices to see the height and weight that the KNN has imputed."
   ]
  },
  {
   "cell_type": "code",
   "execution_count": null,
   "id": "b394bd0d-832d-41fc-a63b-3935b3f3d408",
   "metadata": {},
   "outputs": [],
   "source": [
    "indices_with_missing_values= [21420, 21421, 21422, 21423, 21424, 21425, 21426, 21427, 21428, 21429]\n",
    "print(y_tab2.loc[indices_with_missing_values])\n",
    "print(y_tab_imputed_df.loc[indices_with_missing_values])"
   ]
  },
  {
   "cell_type": "markdown",
   "id": "1410198e-8afc-4727-a272-0043ea456282",
   "metadata": {},
   "source": [
    "hmm, there seems to be quite a lot of varience of the imputed values. \n",
    "especially concering is the imputation of patients with both height and\n",
    "weight missing at the same time. As it might be more inaccurate then. \n",
    "But normal distribution seemed fine."
   ]
  },
  {
   "cell_type": "markdown",
   "id": "ade1a87f-7a58-4dec-b162-bd3c6b1ab9c4",
   "metadata": {},
   "source": [
    "## Normalize"
   ]
  },
  {
   "cell_type": "markdown",
   "id": "23c4a08d-73fb-4ede-a156-d2a0d1c35213",
   "metadata": {},
   "source": [
    "Normalize data in order to prevent biases (so that features with higher magnitude dont dominate the learning process). I got worse overall precision by normalising (without tabular data), however the same score for everything else. However normalizing is necessary to combine tabular data with time series data."
   ]
  },
  {
   "cell_type": "code",
   "execution_count": null,
   "id": "da53d023-68c0-4a44-a716-d9d03bcba06b",
   "metadata": {},
   "outputs": [],
   "source": [
    "import numpy as np\n",
    "#normalize X\n",
    "# I need to compute the mean and std deviation across all samples\n",
    "\n",
    "# Flatten the data to compute global mean and std dev (it's multidimensional per sample)\n",
    "X_flattened = X_copy.reshape(-1, X_copy.shape[-1])  # Reshape to 2D if it's not already (keeps the last dimension intact)\n",
    "\n",
    "mean = X_flattened.mean(axis=0)  # Compute mean for each channel/feature\n",
    "std = X_flattened.std(axis=0)  # Compute std for each channel/feature\n",
    "\n",
    "# Broadcast the mean and std to match the shape of X_copy for element-wise operations\n",
    "X_normalized = (X_copy - mean) / std\n",
    "\n",
    "# If std is 0 for some features (leading to division by zero), you can add a small epsilon for stability\n",
    "epsilon = 1e-10\n",
    "X_normalized = (X_copy - mean) / (std + epsilon)\n",
    "X_copy= X_normalized\n"
   ]
  },
  {
   "cell_type": "markdown",
   "id": "7854a53c-2432-4553-bb6e-2bcd2a96244b",
   "metadata": {},
   "source": [
    "Combining the tabular data form y and time series from X by:\n",
    "1. Normalize or standardize both the tabular and time series data.\r",
    "2. \n",
    "For each sample, replicate the tabular data so that it matches the time dimension of the time series data.3. \r\n",
    "Concatenate the tabular data with the time series data along the feature dimension."
   ]
  },
  {
   "cell_type": "code",
   "execution_count": 220,
   "id": "b2ba508c-4729-4c19-8ea7-5dbe4d244488",
   "metadata": {},
   "outputs": [],
   "source": [
    "from sklearn.preprocessing import StandardScaler\n",
    "#normalize tabular data in y.\n",
    "# Initialize the scaler\n",
    "scaler = StandardScaler()\n",
    "\n",
    "# Fit the scaler to the data and transform it\n",
    "y_tab_normalized = scaler.fit_transform(y_tab_imputed_df)\n",
    "\n",
    "# Convert the normalized array back to a DataFrame (optional, but useful for keeping column names)\n",
    "y_tab_normalized_df = pd.DataFrame(y_tab_normalized, columns=y_tab_imputed_df.columns, index=y_tab_imputed_df.index)\n"
   ]
  },
  {
   "cell_type": "code",
   "execution_count": 221,
   "id": "e1c5f832-f538-4907-a905-671a01f02992",
   "metadata": {},
   "outputs": [],
   "source": [
    "import numpy as np\n",
    "\n",
    "# Assuming X_time_series is thr time series data of shape (num_samples, time_steps, num_features)\n",
    "# and X_tabular is tabular data of shape (num_samples, num_tabular_features)\n",
    "\n",
    "# Replicate tabular data to match time dimension\n",
    "y_tabular_replicated = np.repeat(y_tab_normalized[:, np.newaxis, :], X_copy.shape[1], axis=1)\n",
    "\n",
    "# Concatenate along the feature dimension\n",
    "X_combined = np.concatenate((X_copy, y_tabular_replicated), axis=2)\n"
   ]
  },
  {
   "cell_type": "code",
   "execution_count": 251,
   "id": "cd46b637-ab73-492c-a087-55af481624ef",
   "metadata": {},
   "outputs": [
    {
     "name": "stdout",
     "output_type": "stream",
     "text": [
      "Shape of X_copy: (21430, 200, 19)\n",
      "Shape of y_tabular_replicated: (21430, 200, 7)\n",
      "Shape of X_combined: (21430, 200, 19)\n",
      "Expected number of features: 26\n"
     ]
    }
   ],
   "source": [
    "#verify successful combination of time series and tabular data:\n",
    "\n",
    "print(\"Shape of X_copy:\", X_copy.shape)\n",
    "print(\"Shape of y_tabular_replicated:\", y_tabular_replicated.shape)\n",
    "print(\"Shape of X_combined:\", X_combined.shape)\n",
    "\n",
    "# Calculate the expected number of features after concatenation\n",
    "expected_num_features = X_copy.shape[2] + y_tab_normalized.shape[1]  # num_features_in_X_copy + num_features_in_y_tab_normalized\n",
    "\n",
    "print(\"Expected number of features:\", expected_num_features)\n",
    "\n",
    "#It added the 12 features from X with the 7 features from Y tabular. Good."
   ]
  },
  {
   "cell_type": "code",
   "execution_count": 222,
   "id": "d69b130a-da27-45a0-82ad-77c0dc2b6790",
   "metadata": {},
   "outputs": [],
   "source": [
    "X_copy=X_combined.copy()"
   ]
  },
  {
   "cell_type": "markdown",
   "id": "85f9d887-6903-4ed7-a0c5-842c09997fe0",
   "metadata": {},
   "source": [
    "## test and validation sets"
   ]
  },
  {
   "cell_type": "code",
   "execution_count": 223,
   "id": "1e51f0fd-1f9d-4436-81f2-b07d67142404",
   "metadata": {},
   "outputs": [],
   "source": [
    "# reset the index to ensure it's continuous and starts from 0\n",
    "#Y_copy.reset_index(drop=True, inplace=True)\n",
    "#Y_encoded_df = Y_encoded_df.reset_index(drop=True) #is never used"
   ]
  },
  {
   "cell_type": "markdown",
   "id": "6f713dc2-1a25-4a5b-8431-b22c72ec3507",
   "metadata": {},
   "source": [
    "split dataset"
   ]
  },
  {
   "cell_type": "code",
   "execution_count": 224,
   "id": "4221350b-54bb-4b13-a2e0-8bd9df397565",
   "metadata": {},
   "outputs": [],
   "source": [
    "import numpy as np\n",
    "\n",
    "# Split data into train, test, and validation\n",
    "test_fold = 10\n",
    "val_fold = 9\n",
    "\n",
    "# Extract indices for validation, training, and test to ensure consistency\n",
    "val_indices = np.where(Y_copy.strat_fold == val_fold)[0]\n",
    "train_test_indices = np.where(Y_copy.strat_fold != val_fold)[0]\n",
    "test_indices = np.where(Y_copy.strat_fold == test_fold)[0]\n",
    "train_indices = np.where((Y_copy.strat_fold != val_fold) & (Y_copy.strat_fold != test_fold))[0]\n",
    "\n",
    "# Validation set\n",
    "X_val = X_copy[val_indices]\n",
    "y_val = Y_encoded[val_indices]\n",
    "\n",
    "# Train set\n",
    "X_train = X_copy[train_indices]\n",
    "y_train = Y_encoded[train_indices]\n",
    "\n",
    "# Test set\n",
    "X_test = X_copy[test_indices]\n",
    "y_test = Y_encoded[test_indices]\n"
   ]
  },
  {
   "cell_type": "raw",
   "id": "ea21de95-6ea4-4729-ad1f-0375ef6c68dd",
   "metadata": {
    "jupyter": {
     "source_hidden": true
    }
   },
   "source": [
    "# OLD: Split data into train and test\n",
    "test_fold = 10\n",
    "# X Train & test\n",
    "X_train = X_copy[np.where(Y_copy.strat_fold != test_fold)]\n",
    "X_test = X_copy[np.where(Y_copy.strat_fold == test_fold)]\n",
    "\n",
    "# Split the one-hot encoded labels into train and test sets using the same condition based on 'strat_fold'\n",
    "y_train = Y_encoded[Y_copy.strat_fold != test_fold]\n",
    "y_test = Y_encoded[Y_copy.strat_fold == test_fold]\n",
    "\n",
    "#from sklearn.model_selection import train_test_split\n",
    "# Assuming you've already split X_copy and Y_encoded as shown above\n",
    "# Further split the training data to create a validation set\n",
    "X_train, X_val, y_train, y_val = train_test_split(X_train, y_train, test_size=0.2, random_state=42)\n"
   ]
  },
  {
   "cell_type": "code",
   "execution_count": 225,
   "id": "f2d561e1-d218-456b-a1ba-2306c7d20583",
   "metadata": {},
   "outputs": [
    {
     "name": "stdout",
     "output_type": "stream",
     "text": [
      "Number of folds: 10\n"
     ]
    }
   ],
   "source": [
    "#checking number of folds\n",
    "num_folds = Y_copy['strat_fold'].nunique()\n",
    "print(\"Number of folds:\", num_folds)"
   ]
  },
  {
   "cell_type": "markdown",
   "id": "73983da9-e56b-4ace-9b5b-4843991909ee",
   "metadata": {},
   "source": [
    "using DataLoader for batching, shuffling, and loading the data in parallel."
   ]
  },
  {
   "cell_type": "code",
   "execution_count": 226,
   "id": "a7e19d7c-8f8b-41fb-b877-a9e599d4d69b",
   "metadata": {},
   "outputs": [],
   "source": [
    "from torch.utils.data import Dataset, DataLoader\n",
    "#prepare the data.\n",
    "class ECGDataset(Dataset):\n",
    "    def __init__(self, X, y):\n",
    "        self.X = X\n",
    "        self.y = y\n",
    "\n",
    "    def __len__(self):\n",
    "        return len(self.X)\n",
    "\n",
    "    #def __getitem__(self, idx):\n",
    "    #    return torch.tensor(self.X[idx], dtype=torch.float), torch.tensor(self.y[idx], dtype=torch.long)\n",
    "    def __getitem__(self, idx):\n",
    "        X_tensor = torch.tensor(self.X[idx], dtype=torch.float)\n",
    "        y_tensor = torch.tensor(self.y[idx], dtype=torch.float)  # Ensure labels are float\n",
    "        return X_tensor, y_tensor\n",
    "\n",
    "# Assuming y_train and y_test are already encoded as integers\n",
    "train_dataset = ECGDataset(X_train, y_train)\n",
    "test_dataset = ECGDataset(X_test, y_test)\n",
    "val_dataset = ECGDataset(X_val, y_val)\n",
    "\n",
    "train_loader = DataLoader(train_dataset, batch_size=128, shuffle=True)\n",
    "test_loader = DataLoader(test_dataset, batch_size=128, shuffle=False)\n",
    "val_loader = DataLoader(val_dataset, batch_size=128, shuffle=False)  "
   ]
  },
  {
   "cell_type": "markdown",
   "id": "2476ae44-9493-4c96-b257-9f14a2c4deca",
   "metadata": {},
   "source": [
    "## Training"
   ]
  },
  {
   "cell_type": "markdown",
   "id": "8271d887-490d-4560-8289-3f0597bc0750",
   "metadata": {},
   "source": [
    "Define an LSTM model (NOT IN USE) I thought it could be good to test encoding the tabular data separately and merging it with the LSTM's output, instead of merging the tabular data with time series data into one numpy array like I did in my other model. However I'm not using this one."
   ]
  },
  {
   "cell_type": "raw",
   "id": "cd8a1e79-2e6f-43f7-817c-e2030863ab29",
   "metadata": {},
   "source": [
    "class CombinedModel(nn.Module):\n",
    "    def __init__(self, num_features_ts, num_hidden_lstm, num_features_tabular, num_hidden_dense, num_classes):\n",
    "        super(CombinedModel, self).__init__()\n",
    "        self.lstm = nn.LSTM(input_size=num_features_ts, hidden_size=num_hidden_lstm, batch_first=True)\n",
    "        self.dense_tabular = nn.Sequential(\n",
    "            nn.Linear(num_features_tabular, num_hidden_dense),\n",
    "            nn.ReLU(),\n",
    "            nn.Dropout(0.5)\n",
    "        )\n",
    "        self.final_dense = nn.Linear(num_hidden_lstm + num_hidden_dense, num_classes)\n",
    "    \n",
    "    def forward(self, X_time_series, X_tabular):\n",
    "        lstm_out, _ = self.lstm(X_time_series)\n",
    "        lstm_out = lstm_out[:, -1, :]  # Consider using the last time step\n",
    "        tabular_out = self.dense_tabular(X_tabular)\n",
    "        combined = torch.cat((lstm_out, tabular_out), dim=1)\n",
    "        output = self.final_dense(combined)\n",
    "        return output\n"
   ]
  },
  {
   "cell_type": "markdown",
   "id": "5e2660c1-c9ae-42f0-91ef-eb5dfb76526e",
   "metadata": {},
   "source": [
    "Define the LSTM Model (IN USE)"
   ]
  },
  {
   "cell_type": "code",
   "execution_count": 227,
   "id": "a5b405cd-d134-44a4-a251-79dcd5bddac3",
   "metadata": {},
   "outputs": [],
   "source": [
    "import torch.nn as nn\n",
    "\n",
    "#dropout introduces randomness in the activations during training, \n",
    "#which helps prevent overfitting by ensuring that the network does not \n",
    "#become too dependent on any single neuron\n",
    "class SimpleLSTM(nn.Module):\n",
    "    def __init__(self, input_size, hidden_size, num_layers, num_classes, dropout_rate=0.2):\n",
    "        super(SimpleLSTM, self).__init__()\n",
    "        self.hidden_size = hidden_size\n",
    "        self.num_layers = num_layers\n",
    "        # Define the LSTM layer\n",
    "        self.lstm = nn.LSTM(input_size, hidden_size, num_layers, batch_first=True, dropout=dropout_rate if num_layers > 1 else 0.0)  # Dropout added only if num_layers > 1\n",
    "        \n",
    "        # Define the dropout layer\n",
    "        self.dropout = nn.Dropout(dropout_rate)\n",
    "        \n",
    "        # Define the final, fully-connected output layer\n",
    "        self.fc = nn.Linear(hidden_size, num_classes)\n",
    "        #self.classifier = nn.Linear(hidden_size, num_classes) #Man kan också ha denna. fast hidden_dim istället för hidden_size\n",
    "    \n",
    "    def forward(self, x):\n",
    "        # Initialize hidden and cell state\n",
    "        h0 = torch.zeros(self.num_layers, x.size(0), self.hidden_size).to(x.device)\n",
    "        c0 = torch.zeros(self.num_layers, x.size(0), self.hidden_size).to(x.device)\n",
    "        \n",
    "        # Forward propagate LSTM\n",
    "        out, _ = self.lstm(x, (h0, c0))\n",
    "        \n",
    "        # Apply dropout\n",
    "        out = self.dropout(out)\n",
    "        \n",
    "        # Decode the hidden state of the last time step\n",
    "        out = self.fc(out[:, -1, :])\n",
    "        return out\n",
    "\n",
    "\n",
    "#alternativ kod för forward:\n",
    "        #def forward(self, x):\n",
    "            # Get LSTM outputs (all hidden states, final hidden state, final cell state)\n",
    "            #all_hidden_states, (final_hidden_state, final_cell_state) = self.lstm(x)\n",
    "            # Apply dropout to the final hidden state\n",
    "            #final_hidden_state = self.dropout(final_hidden_state) \n",
    "            # Use only the last layer of the hidden state \n",
    "            #out = self.classifier(final_hidden_state[-1])\n",
    "            #out = torch.sigmoid(out)\n",
    "            #return out"
   ]
  },
  {
   "cell_type": "markdown",
   "id": "1a1d2e10-fb13-4caf-9ca0-96139c799e15",
   "metadata": {},
   "source": [
    "LSTM without dropout (NOT USED ANYMORE)"
   ]
  },
  {
   "cell_type": "raw",
   "id": "4feda79e-aacd-439c-bd0b-603ecdc84344",
   "metadata": {
    "jupyter": {
     "source_hidden": true
    }
   },
   "source": [
    "import torch.nn as nn\n",
    "# adjust input_size, hidden_size, and num_layers\n",
    "#without dropout\n",
    "\n",
    "class SimpleLSTM2(nn.Module):\n",
    "    def __init__(self, input_size, hidden_size, num_layers, num_classes):\n",
    "        super(SimpleLSTM, self).__init__()\n",
    "        self.hidden_size = hidden_size\n",
    "        self.num_layers = num_layers\n",
    "        self.lstm = nn.LSTM(input_size, hidden_size, num_layers, batch_first=True)\n",
    "        self.fc = nn.Linear(hidden_size, num_classes)\n",
    "    \n",
    "    def forward(self, x):\n",
    "        # Initialize hidden and cell state\n",
    "        h0 = torch.zeros(self.num_layers, x.size(0), self.hidden_size).to(x.device)\n",
    "        c0 = torch.zeros(self.num_layers, x.size(0), self.hidden_size).to(x.device)\n",
    "        \n",
    "        # Forward propagate LSTM\n",
    "        out, _ = self.lstm(x, (h0, c0))\n",
    "        \n",
    "        # Decode the hidden state of the last time step\n",
    "        out = self.fc(out[:, -1, :])\n",
    "        return out\n"
   ]
  },
  {
   "cell_type": "markdown",
   "id": "63a7c025-6799-4642-ad4e-73df47aa3837",
   "metadata": {},
   "source": [
    "Make sure the y_train and y_test are class indices, not one-hot\n",
    "If they are one-hot encoded, convert them to class indices"
   ]
  },
  {
   "cell_type": "code",
   "execution_count": 228,
   "id": "ac4136a4-8fb7-451c-b7aa-02015d1e037c",
   "metadata": {},
   "outputs": [],
   "source": [
    "y_train_indices = np.argmax(y_train, axis=1) if y_train.ndim > 1 else y_train\n",
    "y_test_indices = np.argmax(y_test, axis=1) if y_test.ndim > 1 else y_test"
   ]
  },
  {
   "cell_type": "markdown",
   "id": "9fef09e1-240b-4919-a76f-4c9883f4ff58",
   "metadata": {},
   "source": [
    "Train the model (NOT IN USE, only used this one early on for creating a baseline model for comparison)"
   ]
  },
  {
   "cell_type": "raw",
   "id": "6458af9d-0496-4fd1-b700-7aae4352419d",
   "metadata": {
    "jupyter": {
     "source_hidden": true
    }
   },
   "source": [
    "device = torch.device('cuda' if torch.cuda.is_available() else 'cpu')\n",
    "#NOT IN USE. Set number of epochs. Only used for baseline model once. \n",
    "\n",
    "# Adjust the model initialization if necessary\n",
    "model = SimpleLSTM(input_size=12, hidden_size=128, num_layers=2, num_classes=y_train.shape[1]).to(device)\n",
    "\n",
    "# Use CrossEntropyLoss for multi-class classification\n",
    "criterion = nn.CrossEntropyLoss()\n",
    "\n",
    "optimizer = torch.optim.Adam(model.parameters(), lr=0.001)\n",
    "\n",
    "# Update the dataset accordingly\n",
    "train_dataset = ECGDataset(X_train, y_train_indices)\n",
    "test_dataset = ECGDataset(X_test, y_test_indices)\n",
    "\n",
    "#timer for seeing how long each epoch takes\n",
    "start_time = time.time()\n",
    "total_epoch_time = 0  # Initialize total epoch time to calculate average later\n",
    "\n",
    "\n",
    "# Training loop\n",
    "num_epochs = 10\n",
    "for epoch in range(num_epochs):\n",
    "    epoch_start_time = time.time() #timer\n",
    "    \n",
    "    for inputs, labels in train_loader:\n",
    "        inputs, labels = inputs.to(device), labels.to(device)\n",
    "        \n",
    "        # Forward pass\n",
    "        outputs = model(inputs)\n",
    "        loss = criterion(outputs, labels)\n",
    "        \n",
    "        # Backward and optimize\n",
    "        optimizer.zero_grad()\n",
    "        loss.backward()\n",
    "        optimizer.step()\n",
    "\n",
    "    epoch_end_time = time.time()  # End time for the current epoch\n",
    "    epoch_duration = epoch_end_time - epoch_start_time\n",
    "    total_epoch_time += epoch_duration  # Accumulate total epoch time\n",
    "    average_time_per_epoch = total_epoch_time / (epoch + 1)\n",
    "    estimated_time_left = average_time_per_epoch * (num_epochs - epoch - 1)\n",
    "    \n",
    "    \n",
    "    #print(f'Epoch [{epoch+1}/{num_epochs}], Loss: {loss.item():.4f}')\n",
    "    print(f'Epoch [{epoch+1}/{num_epochs}], Loss: {loss.item():.4f}, Time for epoch: {epoch_duration:.2f}s, Estimated time left: {estimated_time_left:.2f}s')\n",
    "\n"
   ]
  },
  {
   "cell_type": "code",
   "execution_count": 229,
   "id": "1f9d6419-c7f5-4b2f-9bc0-a0512fd9b076",
   "metadata": {},
   "outputs": [],
   "source": [
    "#CUDA test\n",
    "#import torch\n",
    "#print(torch.cuda.is_available())  # Should print True if CUDA is available\n",
    "#print(torch.cuda.device_count())  # Prints the number of GPUs available\n",
    "#print(torch.cuda.get_device_name(0))  # Prints the name of the GPU"
   ]
  },
  {
   "cell_type": "markdown",
   "id": "15662b65-cf57-4bf6-8f97-5f3eccffd21e",
   "metadata": {},
   "source": [
    "I train weights for label balancing. Without weights, my model predicted NORM (majority label) above the others."
   ]
  },
  {
   "cell_type": "code",
   "execution_count": 230,
   "id": "2bf5486c-d85c-46d0-8692-005032fe393e",
   "metadata": {},
   "outputs": [],
   "source": [
    "from sklearn.utils.class_weight import compute_class_weight\n",
    "device = torch.device('cuda' if torch.cuda.is_available() else 'cpu')\n",
    "\n",
    "# Assuming 'y_train' is a binary matrix of shape [n_samples, n_classes]\n",
    "class_weights = []\n",
    "for i in range(y_train.shape[1]):  # For each class\n",
    "    # Compute class weight for class i\n",
    "    weights = compute_class_weight(class_weight='balanced', classes=[0, 1], y=y_train[:, i])\n",
    "    class_weights.append(weights[1])  # We're interested in the weight for the \"positive\" class\n",
    "\n",
    "class_weights = torch.tensor(class_weights, dtype=torch.float).to(device)\n"
   ]
  },
  {
   "cell_type": "code",
   "execution_count": 231,
   "id": "c74b64fa-8b95-4d9b-9047-b1571f0e66f7",
   "metadata": {},
   "outputs": [],
   "source": [
    "#is used to validate a model during training\n",
    "def validate(model, val_loader, criterion, device):\n",
    "    model.eval()\n",
    "    total_loss = 0\n",
    "    with torch.no_grad():\n",
    "        for inputs, labels in val_loader:\n",
    "            inputs, labels = inputs.to(device), labels.to(device)\n",
    "            outputs = model(inputs)\n",
    "            loss = criterion(outputs, labels)\n",
    "            total_loss += loss.item()\n",
    "    avg_loss = total_loss / len(val_loader)\n",
    "    return avg_loss"
   ]
  },
  {
   "cell_type": "markdown",
   "id": "9f8b0c3a-4f95-4e0c-aa78-0e0e19f849cc",
   "metadata": {},
   "source": [
    "Here I train the model. I used BCEWithLogitsLoss because it's used for multi-label classification and has a built in sigmoid function"
   ]
  },
  {
   "cell_type": "code",
   "execution_count": 241,
   "id": "89b1a032-ad81-4036-a85b-200af114b922",
   "metadata": {},
   "outputs": [
    {
     "name": "stderr",
     "output_type": "stream",
     "text": [
      "C:\\programmering\\tools\\anaconda3\\envs\\testCuda2\\lib\\site-packages\\torch\\optim\\lr_scheduler.py:28: UserWarning: The verbose parameter is deprecated. Please use get_last_lr() to access the learning rate.\n",
      "  warnings.warn(\"The verbose parameter is deprecated. Please use get_last_lr() \"\n"
     ]
    },
    {
     "name": "stdout",
     "output_type": "stream",
     "text": [
      "Epoch [1/50], Training Loss: 0.6887, Validation Loss: 0.7107,  Time for epoch: 10.67s, Estimated time left: 522.93s\n",
      "Epoch [2/50], Training Loss: 0.6974, Validation Loss: 0.7112,  Time for epoch: 10.49s, Estimated time left: 507.87s\n",
      "Epoch [3/50], Training Loss: 0.8358, Validation Loss: 0.8079,  Time for epoch: 10.53s, Estimated time left: 496.50s\n",
      "Epoch [4/50], Training Loss: 0.7878, Validation Loss: 0.7396,  Time for epoch: 10.55s, Estimated time left: 485.72s\n",
      "Epoch [5/50], Training Loss: 0.6712, Validation Loss: 0.6820,  Time for epoch: 10.50s, Estimated time left: 474.62s\n",
      "Epoch [6/50], Training Loss: 0.7283, Validation Loss: 0.6906,  Time for epoch: 10.52s, Estimated time left: 463.89s\n",
      "Epoch [7/50], Training Loss: 0.6048, Validation Loss: 0.6726,  Time for epoch: 10.52s, Estimated time left: 453.19s\n",
      "Epoch [8/50], Training Loss: 0.6274, Validation Loss: 0.6357,  Time for epoch: 10.54s, Estimated time left: 442.67s\n",
      "Epoch [9/50], Training Loss: 0.6751, Validation Loss: 0.6174,  Time for epoch: 10.53s, Estimated time left: 432.11s\n",
      "Epoch [10/50], Training Loss: 0.5240, Validation Loss: 0.5887,  Time for epoch: 10.55s, Estimated time left: 421.62s\n",
      "Epoch [11/50], Training Loss: 0.5599, Validation Loss: 0.5898,  Time for epoch: 10.56s, Estimated time left: 411.16s\n",
      "Epoch [12/50], Training Loss: 0.5971, Validation Loss: 0.5740,  Time for epoch: 10.61s, Estimated time left: 400.83s\n",
      "Epoch [13/50], Training Loss: 0.4709, Validation Loss: 0.5545,  Time for epoch: 10.53s, Estimated time left: 390.22s\n",
      "Epoch [14/50], Training Loss: 0.5862, Validation Loss: 0.5491,  Time for epoch: 10.56s, Estimated time left: 379.70s\n",
      "Epoch [15/50], Training Loss: 0.5317, Validation Loss: 0.5421,  Time for epoch: 10.59s, Estimated time left: 369.25s\n",
      "Epoch [16/50], Training Loss: 0.4625, Validation Loss: 0.5295,  Time for epoch: 10.65s, Estimated time left: 358.91s\n",
      "Epoch [17/50], Training Loss: 0.4667, Validation Loss: 0.5251,  Time for epoch: 10.61s, Estimated time left: 348.46s\n",
      "Epoch [18/50], Training Loss: 0.5304, Validation Loss: 0.5240,  Time for epoch: 10.69s, Estimated time left: 338.13s\n",
      "Epoch [19/50], Training Loss: 0.4761, Validation Loss: 0.5040,  Time for epoch: 10.71s, Estimated time left: 327.80s\n",
      "Epoch [20/50], Training Loss: 0.4272, Validation Loss: 0.5058,  Time for epoch: 10.67s, Estimated time left: 317.37s\n",
      "Epoch [21/50], Training Loss: 0.3882, Validation Loss: 0.5113,  Time for epoch: 10.73s, Estimated time left: 307.00s\n",
      "Epoch [22/50], Training Loss: 0.4959, Validation Loss: 0.4871,  Time for epoch: 10.72s, Estimated time left: 296.58s\n",
      "Epoch [23/50], Training Loss: 0.4158, Validation Loss: 0.4995,  Time for epoch: 10.65s, Estimated time left: 286.06s\n",
      "Epoch [24/50], Training Loss: 0.4454, Validation Loss: 0.4935,  Time for epoch: 10.68s, Estimated time left: 275.56s\n",
      "Epoch [25/50], Training Loss: 0.5102, Validation Loss: 0.4927,  Time for epoch: 10.74s, Estimated time left: 265.10s\n",
      "Epoch [26/50], Training Loss: 0.3894, Validation Loss: 0.5024,  Time for epoch: 10.95s, Estimated time left: 254.82s\n",
      "Epoch [27/50], Training Loss: 0.4579, Validation Loss: 0.4945,  Time for epoch: 10.94s, Estimated time left: 244.47s\n",
      "Epoch [28/50], Training Loss: 0.4410, Validation Loss: 0.4963,  Time for epoch: 10.74s, Estimated time left: 233.93s\n",
      "Epoch [29/50], Training Loss: 0.3465, Validation Loss: 0.4897,  Time for epoch: 10.74s, Estimated time left: 223.37s\n",
      "Epoch [30/50], Training Loss: 0.4582, Validation Loss: 0.4936,  Time for epoch: 10.66s, Estimated time left: 212.75s\n",
      "Epoch [31/50], Training Loss: 0.3189, Validation Loss: 0.4944,  Time for epoch: 10.81s, Estimated time left: 202.22s\n",
      "Early stopping triggered!\n",
      "Best epoch: 22\n"
     ]
    },
    {
     "data": {
      "text/plain": [
       "<All keys matched successfully>"
      ]
     },
     "execution_count": 241,
     "metadata": {},
     "output_type": "execute_result"
    }
   ],
   "source": [
    "#training\n",
    "\n",
    "from torch.optim.lr_scheduler import StepLR\n",
    "from torch.optim.lr_scheduler import ReduceLROnPlateau\n",
    "\n",
    "device = torch.device('cuda' if torch.cuda.is_available() else 'cpu')\n",
    "\n",
    "#The input_size=12 refers to the number of features each input sample has.\n",
    "#input size is 12 without tabular data\n",
    "#input size is 19 with tabular data.\n",
    "model = SimpleLSTM(input_size=19, hidden_size=128, num_layers=2, num_classes=y_train.shape[1]).to(device)\n",
    "criterion = nn.BCEWithLogitsLoss(pos_weight=class_weights) #using weights and BCEWithLogitsLoss \n",
    "\n",
    "optimizer = torch.optim.Adam(model.parameters(), lr=0.001)\n",
    "# Define the scheduler\n",
    "#scheduler = StepLR(optimizer, step_size=10, gamma=0.1)\n",
    "scheduler = ReduceLROnPlateau(optimizer, mode='min', factor=0.1, patience=5, verbose=True)\n",
    "\n",
    "#timer for seeing how long each epoch takes\n",
    "start_time = time.time()\n",
    "total_epoch_time = 0  # Initialize total epoch time to calculate average later\n",
    "\n",
    "\n",
    "#variables for early stopping\n",
    "no_improvement_count = 0\n",
    "best_val_loss = 5000 # a really high number\n",
    "best_training_loss = 5000 # a really high number\n",
    "patience = 10 # the number of loops before an improvement in validation loss is accepted.\n",
    "train_loss_tolerance = 0.01  # Allow up to 1% increase in training loss\n",
    "\n",
    "\n",
    "#lists to keep track of training and validation losses\n",
    "training_losses = []\n",
    "validation_losses =[]\n",
    "\n",
    "\n",
    "# Training loop\n",
    "num_epochs = 50\n",
    "for epoch in range(num_epochs):\n",
    "    epoch_start_time = time.time() #timer\n",
    "    model.train()\n",
    "    for inputs, labels in train_loader:\n",
    "        inputs, labels = inputs.to(device), labels.to(device)\n",
    "        \n",
    "        # Forward pass\n",
    "        outputs = model(inputs)\n",
    "        loss = criterion(outputs, labels)\n",
    "        \n",
    "        # Backward and optimize\n",
    "        optimizer.zero_grad()\n",
    "        loss.backward()\n",
    "        optimizer.step()\n",
    "\n",
    "    val_loss = validate(model,val_loader, criterion, device)\n",
    "    train_loss = loss.item()\n",
    "    \n",
    "    training_losses.append(loss.item())\n",
    "    validation_losses.append(val_loss)\n",
    "    \n",
    "    scheduler.step(val_loss)\n",
    "    # using early stopping and model saving in order to prevent overfitting\n",
    "    if val_loss < best_val_loss and train_loss < best_training_loss:\n",
    "        best_val_loss = val_loss\n",
    "        train_loss = best_training_loss\n",
    "        best_model_state = model.state_dict()  # Save the current model state\n",
    "        best_epoch = epoch\n",
    "        no_improvement_count = 0\n",
    "    else:\n",
    "        no_improvement_count += 1\n",
    "    if no_improvement_count >= patience:\n",
    "        print(\"Early stopping triggered!\")\n",
    "        print(f\"Best epoch: {best_epoch + 1}\")\n",
    "        break\n",
    "\n",
    "    #time logic to see how much time has passed and is left etc.\n",
    "    epoch_end_time = time.time()  # End time for the current epoch\n",
    "    epoch_duration = epoch_end_time - epoch_start_time\n",
    "    total_epoch_time += epoch_duration  # Accumulate total epoch time\n",
    "    average_time_per_epoch = total_epoch_time / (epoch + 1)\n",
    "    estimated_time_left = average_time_per_epoch * (num_epochs - epoch - 1)\n",
    "    \n",
    "    print(f'Epoch [{epoch+1}/{num_epochs}], Training Loss: {loss.item():.4f}, Validation Loss: {val_loss:.4f},  Time for epoch: {epoch_duration:.2f}s, Estimated time left: {estimated_time_left:.2f}s')\n",
    "\n",
    "#load best model after training\n",
    "model.load_state_dict(best_model_state)"
   ]
  },
  {
   "cell_type": "code",
   "execution_count": 81,
   "id": "ac305de7-be8a-424a-84a9-6f9290699aad",
   "metadata": {},
   "outputs": [],
   "source": [
    "#Save model\n",
    "\n",
    "# Save the model's state dictionary\n",
    "#torch.save(model.state_dict(), 'models/Lstm_53202403011000_state.pth')\n",
    "\n",
    "# Optionally, if you want to save the entire model (not recommended)\n",
    "#torch.save(model, 'models/Lstm_53202403011000_model.pth')\n"
   ]
  },
  {
   "cell_type": "markdown",
   "id": "61a2d302-ac94-424e-96f0-04fa22118c3e",
   "metadata": {},
   "source": [
    "## Evaluate and visualize results"
   ]
  },
  {
   "cell_type": "code",
   "execution_count": 242,
   "id": "83a4b846-6d6a-481e-92b0-7effd5592e5d",
   "metadata": {},
   "outputs": [
    {
     "data": {
      "image/png": "[encoded data removed]",
      "text/plain": [
       "<Figure size 1000x600 with 1 Axes>"
      ]
     },
     "metadata": {},
     "output_type": "display_data"
    }
   ],
   "source": [
    "import matplotlib.pyplot as plt\n",
    "\n",
    "#plots training and validation loss over epochs.\n",
    "epochs = range(1, len(training_losses) + 1)\n",
    "\n",
    "plt.figure(figsize=(10, 6))\n",
    "plt.plot(epochs, training_losses, label='Training Loss')\n",
    "plt.plot(epochs, validation_losses, label='Validation Loss')\n",
    "plt.title('Training and Validation Loss')\n",
    "plt.xlabel('Epochs')\n",
    "plt.ylabel('Loss')\n",
    "plt.legend()\n",
    "plt.show()\n"
   ]
  },
  {
   "cell_type": "markdown",
   "id": "4061f064-d883-4ef7-9bc1-f0b77c660947",
   "metadata": {},
   "source": [
    "Calculate models evaluation. "
   ]
  },
  {
   "cell_type": "code",
   "execution_count": 243,
   "id": "578f3280-6ae7-4192-80f1-8b246a381ca4",
   "metadata": {},
   "outputs": [],
   "source": [
    "import torch\n",
    "from sklearn.metrics import recall_score, precision_score, f1_score, roc_auc_score\n",
    "from torch.nn.functional import sigmoid\n",
    "\n",
    "# Set the model to evaluation mode\n",
    "model.eval()\n",
    "\n",
    "# Containers for true labels and predictions\n",
    "true_labels = []\n",
    "predictions = []\n",
    "\n",
    "# No gradient is needed for evaluation\n",
    "with torch.no_grad():\n",
    "    for inputs, labels in test_loader:\n",
    "        inputs = inputs.to(device)\n",
    "        labels = labels.to(device)\n",
    "        \n",
    "        # Forward pass\n",
    "        outputs = model(inputs)\n",
    "        \n",
    "        # Convert logits to probabilities\n",
    "        probs = sigmoid(outputs)\n",
    "        \n",
    "        # Store predictions and true labels\n",
    "        predictions.append(probs.cpu().numpy())\n",
    "        true_labels.append(labels.cpu().numpy())\n",
    "\n",
    "# Concatenate all batches\n",
    "true_labels = np.vstack(true_labels)\n",
    "predictions = np.vstack(predictions)\n"
   ]
  },
  {
   "cell_type": "code",
   "execution_count": 244,
   "id": "64de3c1f-bd4e-49ed-a4b1-84c1941d8158",
   "metadata": {},
   "outputs": [],
   "source": [
    "binary_predictions = (predictions > 0.3).astype(int)"
   ]
  },
  {
   "cell_type": "markdown",
   "id": "02c61f22-8c52-4d29-8237-eaa1cc056b4e",
   "metadata": {},
   "source": [
    "Calculate error metrics for each label separetly"
   ]
  },
  {
   "cell_type": "code",
   "execution_count": 245,
   "id": "ae546c1b-2638-431a-b0cf-48f6b4c0ebee",
   "metadata": {},
   "outputs": [
    {
     "name": "stdout",
     "output_type": "stream",
     "text": [
      "Label: CD\n",
      "Recall: 0.7691\n",
      "Precision: 0.5535\n",
      "F1-Score: 0.6437\n",
      "ROC AUC: 0.8763\n",
      "Average Precision: 0.7706\n",
      "\n",
      "Label: HYP\n",
      "Recall: 0.7529\n",
      "Precision: 0.3830\n",
      "F1-Score: 0.5077\n",
      "ROC AUC: 0.8675\n",
      "Average Precision: 0.6045\n",
      "\n",
      "Label: MI\n",
      "Recall: 0.8228\n",
      "Precision: 0.5963\n",
      "F1-Score: 0.6915\n",
      "ROC AUC: 0.8922\n",
      "Average Precision: 0.7496\n",
      "\n",
      "Label: NORM\n",
      "Recall: 0.9450\n",
      "Precision: 0.7437\n",
      "F1-Score: 0.8323\n",
      "ROC AUC: 0.9288\n",
      "Average Precision: 0.9013\n",
      "\n",
      "Label: STTC\n",
      "Recall: 0.8356\n",
      "Precision: 0.5796\n",
      "F1-Score: 0.6844\n",
      "ROC AUC: 0.9079\n",
      "Average Precision: 0.7597\n",
      "\n"
     ]
    }
   ],
   "source": [
    "from sklearn.metrics import recall_score, precision_score, f1_score, roc_auc_score, average_precision_score\n",
    "\n",
    "# Initialize scores dictionary\n",
    "scores = {}\n",
    "\n",
    "# Calculate scores for each label, adjusting the precision_score call\n",
    "for i, label in enumerate(mlb.classes_):\n",
    "    scores[label] = {\n",
    "        'Recall': recall_score(true_labels[:, i], binary_predictions[:, i]),\n",
    "        'Precision': precision_score(true_labels[:, i], binary_predictions[:, i], zero_division=0),  # Adjusted here\n",
    "        'F1-Score': f1_score(true_labels[:, i], binary_predictions[:, i]),\n",
    "        'ROC AUC': roc_auc_score(true_labels[:, i], predictions[:, i]),\n",
    "        'Average Precision': average_precision_score(true_labels[:, i], predictions[:, i])\n",
    "    }\n",
    "\n",
    "# Print scores for each label\n",
    "for label, metrics in scores.items():\n",
    "    print(f\"Label: {label}\")\n",
    "    for metric, score in metrics.items():\n",
    "        print(f\"{metric}: {score:.4f}\")\n",
    "    print()  # Newline for better readability\n"
   ]
  },
  {
   "cell_type": "markdown",
   "id": "4815e40d-52b9-4f4d-8a0e-48ecda2cf512",
   "metadata": {},
   "source": [
    "Evaluate model"
   ]
  },
  {
   "cell_type": "code",
   "execution_count": 246,
   "id": "1785cac0-e97f-41c2-a559-8741add686eb",
   "metadata": {},
   "outputs": [],
   "source": [
    "def evaluate(model, data_loader, criterion, device):\n",
    "    model.eval()\n",
    "    total_loss = 0\n",
    "    predictions = []\n",
    "    actuals = []\n",
    "\n",
    "    with torch.no_grad():\n",
    "        for inputs, labels in data_loader:\n",
    "            inputs, labels = inputs.to(device), labels.to(device)\n",
    "            outputs = model(inputs)\n",
    "            loss = criterion(outputs, labels)\n",
    "            total_loss += loss.item()\n",
    "            probabilities = torch.sigmoid(outputs)\n",
    "            predicted = probabilities > 0.5\n",
    "            predictions.append(predicted.cpu().numpy())\n",
    "            actuals.append(labels.cpu().numpy())\n",
    "\n",
    "    avg_loss = total_loss / len(data_loader)\n",
    "    predictions = np.vstack(predictions)\n",
    "    actuals = np.vstack(actuals)\n",
    "    return avg_loss, predictions, actuals\n",
    "\n",
    "device = torch.device(\"cuda\" if torch.cuda.is_available() else \"cpu\")\n",
    "test_loss, test_predictions, test_actuals = evaluate(model, test_loader, criterion, device)"
   ]
  },
  {
   "cell_type": "markdown",
   "id": "3621bb77-a021-4d90-8085-c1402e5924d8",
   "metadata": {},
   "source": [
    "Calculate confusion matrix for each label (I had difficulties using the normal SNS confusion matrix) "
   ]
  },
  {
   "cell_type": "code",
   "execution_count": 247,
   "id": "a9090f67-477f-43c4-80d4-13e49c5bb343",
   "metadata": {},
   "outputs": [
    {
     "name": "stdout",
     "output_type": "stream",
     "text": [
      "CD metrics:\n",
      "Accuracy: 0.8576, Precision: 0.6971, Recall: 0.6747, F1: 0.6857, AUC-ROC: 0.7935\n",
      "\n",
      "          Predicted\n",
      "          0      1\n",
      "Actual 0  1519    146\n",
      "       1  162    336\n",
      "\n",
      "HYP metrics:\n",
      "Accuracy: 0.8849, Precision: 0.5226, Recall: 0.6160, F1: 0.5654, AUC-ROC: 0.7690\n",
      "\n",
      "          Predicted\n",
      "          0      1\n",
      "Actual 0  1752    148\n",
      "       1  101    162\n",
      "\n",
      "MI metrics:\n",
      "Accuracy: 0.8308, Precision: 0.6604, Recall: 0.6962, F1: 0.6778, AUC-ROC: 0.7866\n",
      "\n",
      "          Predicted\n",
      "          0      1\n",
      "Actual 0  1412    198\n",
      "       1  168    385\n",
      "\n",
      "NORM metrics:\n",
      "Accuracy: 0.8474, Precision: 0.7871, Recall: 0.9015, F1: 0.8404, AUC-ROC: 0.8527\n",
      "\n",
      "          Predicted\n",
      "          0      1\n",
      "Actual 0  964    235\n",
      "       1  95    869\n",
      "\n",
      "STTC metrics:\n",
      "Accuracy: 0.8433, Precision: 0.6538, Recall: 0.7476, F1: 0.6976, AUC-ROC: 0.8107\n",
      "\n",
      "          Predicted\n",
      "          0      1\n",
      "Actual 0  1433    207\n",
      "       1  132    391\n",
      "\n"
     ]
    }
   ],
   "source": [
    "from sklearn.metrics import recall_score, precision_score, f1_score, roc_auc_score, average_precision_score, accuracy_score, hamming_loss, roc_curve\n",
    "\n",
    "#true_labels = np.vstack(true_labels)\n",
    "#predictions = np.vstack(predictions)\n",
    "\n",
    "label_names = mlb.classes_ \n",
    "for i, label in enumerate(label_names):\n",
    "    y_true = test_actuals.astype(int)[:, i]\n",
    "    y_pred = test_predictions.astype(int)[:, i]\n",
    "\n",
    "    acc = accuracy_score(y_true, y_pred)\n",
    "    precision = precision_score(y_true, y_pred, average='binary')\n",
    "    recall = recall_score(y_true, y_pred, average='binary')\n",
    "    f1 = f1_score(y_true, y_pred, average='binary')\n",
    "    auc_roc = roc_auc_score(y_true, y_pred)\n",
    "    cm = confusion_matrix(y_true, y_pred)\n",
    "\n",
    "    print(f\"{label} metrics:\")\n",
    "    print(f\"Accuracy: {acc:.4f}, Precision: {precision:.4f}, Recall: {recall:.4f}, F1: {f1:.4f}, AUC-ROC: {auc_roc:.4f}\")\n",
    "    print(\"\\n          Predicted\")\n",
    "    print(\"          0      1\")\n",
    "    print(f\"Actual 0  {cm[0,0]}    {cm[0,1]}\")\n",
    "    print(f\"       1  {cm[1,0]}    {cm[1,1]}\\n\")"
   ]
  },
  {
   "cell_type": "markdown",
   "id": "1d611c91-685f-41e4-8557-0ebf9c137316",
   "metadata": {},
   "source": [
    "Display overall error score for the model (all labels combined)"
   ]
  },
  {
   "cell_type": "code",
   "execution_count": 249,
   "id": "aec976eb-8451-4e11-9ebe-617030a42d17",
   "metadata": {},
   "outputs": [
    {
     "name": "stdout",
     "output_type": "stream",
     "text": [
      "Accuracy: 0.5501618122977346\n",
      "Precision (Micro): 0.696457588560286\n",
      "Recall (Micro): 0.7650838986076401\n",
      "F1 Score (Micro): 0.7291595780877851\n",
      "Hamming Loss: 0.14720295885344428\n",
      "Auc Roc: 0.8242689270926895\n"
     ]
    }
   ],
   "source": [
    "from sklearn.metrics import accuracy_score, precision_score, recall_score, f1_score, hamming_loss, auc, roc_curve, roc_auc_score, confusion_matrix\n",
    "\n",
    "accuracy = accuracy_score(test_actuals, test_predictions)\n",
    "precision_micro = precision_score(test_actuals, test_predictions, average='micro')\n",
    "recall_micro = recall_score(test_actuals, test_predictions, average='micro')\n",
    "f1_micro = f1_score(test_actuals, test_predictions, average='micro')\n",
    "hamming = hamming_loss(test_actuals, test_predictions)\n",
    "\n",
    "fpr, tpr,_  = roc_curve(test_actuals.ravel(), test_predictions.ravel()) \n",
    "auc_roc = auc(fpr, tpr) \n",
    "\n",
    "print(f\"Accuracy: {accuracy}\")\n",
    "print(f\"Precision (Micro): {precision_micro}\")\n",
    "print(f\"Recall (Micro): {recall_micro}\")\n",
    "print(f\"F1 Score (Micro): {f1_micro}\")\n",
    "print(f\"Hamming Loss: {hamming}\")\n",
    "print(f\"Auc Roc: {auc_roc}\")"
   ]
  },
  {
   "cell_type": "markdown",
   "id": "829017ab-1202-4101-83de-529ce1f515d5",
   "metadata": {},
   "source": [
    "Precision-recall curve for all labels separetly"
   ]
  },
  {
   "cell_type": "code",
   "execution_count": 143,
   "id": "aac9560f-332e-4bc4-b150-74978c5091ba",
   "metadata": {},
   "outputs": [
    {
     "data": {
      "image/png": "[encoded data removed]",
      "text/plain": [
       "<Figure size 600x400 with 1 Axes>"
      ]
     },
     "metadata": {},
     "output_type": "display_data"
    },
    {
     "data": {
      "image/png": "[encoded data removed]",
      "text/plain": [
       "<Figure size 600x400 with 1 Axes>"
      ]
     },
     "metadata": {},
     "output_type": "display_data"
    },
    {
     "data": {
      "image/png": "[encoded data removed]",
      "text/plain": [
       "<Figure size 600x400 with 1 Axes>"
      ]
     },
     "metadata": {},
     "output_type": "display_data"
    },
    {
     "data": {
      "image/png": "[encoded data removed]",
      "text/plain": [
       "<Figure size 600x400 with 1 Axes>"
      ]
     },
     "metadata": {},
     "output_type": "display_data"
    },
    {
     "data": {
      "image/png": "[encoded data removed]",
      "text/plain": [
       "<Figure size 600x400 with 1 Axes>"
      ]
     },
     "metadata": {},
     "output_type": "display_data"
    }
   ],
   "source": [
    "from sklearn.metrics import precision_recall_curve\n",
    "import matplotlib.pyplot as plt\n",
    "\n",
    "# Assuming 'predictions' is a NumPy array of shape (num_samples, num_labels)\n",
    "# and 'true_labels' is of the same shape\n",
    "num_labels = predictions.shape[1]\n",
    "\n",
    "for label_index in range(num_labels):\n",
    "    # Extract the true labels and predictions for the current label\n",
    "    true_labels_i = true_labels[:, label_index]\n",
    "    predictions_i = predictions[:, label_index]\n",
    "\n",
    "    # Compute precision-recall curve\n",
    "    precision, recall, thresholds = precision_recall_curve(true_labels_i, predictions_i)\n",
    "\n",
    "    # Plot the precision-recall curve for the current label\n",
    "    plt.figure(figsize=(6, 4))\n",
    "    plt.plot(recall, precision, label='Label {}'.format(label_index))\n",
    "    plt.xlabel('Recall')\n",
    "    plt.ylabel('Precision')\n",
    "    plt.title('Precision-Recall Curve for Label {}'.format(label_index))\n",
    "    plt.legend(loc=\"upper right\")\n",
    "    plt.show()\n"
   ]
  },
  {
   "cell_type": "code",
   "execution_count": null,
   "id": "6cce9b12-26eb-4ce1-8ca7-3b591c6f9dad",
   "metadata": {},
   "outputs": [],
   "source": []
  },
  {
   "cell_type": "markdown",
   "id": "d7e94300-836d-4693-93e1-2a7c422fdf4d",
   "metadata": {},
   "source": [
    "Confusion matrix with sns. However I could not get it to work"
   ]
  },
  {
   "cell_type": "raw",
   "id": "3d839b3c-a8ad-407f-b736-a415fb2c7b1e",
   "metadata": {
    "collapsed": true,
    "jupyter": {
     "outputs_hidden": true
    }
   },
   "source": [
    "from sklearn.metrics import confusion_matrix\n",
    "import seaborn as sns\n",
    "import matplotlib.pyplot as plt\n",
    "\n",
    "# Iterate over each label\n",
    "for i, label in enumerate(mlb.classes_):\n",
    "    # Compute the confusion matrix for the current label\n",
    "    cm = confusion_matrix(true_labels[:, i], binary_predictions[:, i])\n",
    "    \n",
    "    # Visualization\n",
    "    plt.figure(figsize=(5, 4))\n",
    "    sns.heatmap(cm, annot=True, fmt='d', cmap='Blues',\n",
    "                xticklabels=['Not ' + label, label],\n",
    "                yticklabels=['Not ' + label, label])\n",
    "    plt.xlabel('Predicted Labels')\n",
    "    plt.ylabel('True Labels')\n",
    "    plt.title(f'Confusion Matrix for {label}')\n",
    "    plt.show()\n"
   ]
  },
  {
   "cell_type": "markdown",
   "id": "c8aeda3f-35ad-4ff7-b3b0-bb61af061a3e",
   "metadata": {},
   "source": [
    "Overall accuracy of model (not used for my evaluations)"
   ]
  },
  {
   "cell_type": "code",
   "execution_count": 219,
   "id": "eae8a397-98b3-4ce8-9262-b6a5db5b0ad4",
   "metadata": {},
   "outputs": [
    {
     "name": "stdout",
     "output_type": "stream",
     "text": [
      "Accuracy of the model on the test data: 42.16%\n"
     ]
    }
   ],
   "source": [
    "model.eval()\n",
    "with torch.no_grad():\n",
    "    correct = 0\n",
    "    total = 0\n",
    "    for inputs, labels in test_loader:\n",
    "        inputs, labels = inputs.to(device), labels.to(device)\n",
    "        \n",
    "        # Forward pass\n",
    "        outputs = model(inputs)\n",
    "        _, predicted = torch.max(outputs, 1)\n",
    "        \n",
    "        # Ensure labels are in the correct shape for comparison\n",
    "        if labels.ndim > 1:\n",
    "            labels = labels.argmax(dim=1)\n",
    "        \n",
    "        total += labels.size(0)\n",
    "        correct += (predicted == labels).sum().item()\n",
    "\n",
    "    accuracy = 100 * correct / total\n",
    "    print(f'Accuracy of the model on the test data: {accuracy:.2f}%')\n"
   ]
  },
  {
   "cell_type": "markdown",
   "id": "b4515160-a73c-421a-91db-87c2d67f063b",
   "metadata": {},
   "source": [
    "Gather Predictions and Actual Labels"
   ]
  },
  {
   "cell_type": "markdown",
   "id": "1f52621f-3d73-4fe3-abd2-0597e8b196cc",
   "metadata": {},
   "source": [
    "## Results and Discussion"
   ]
  },
  {
   "attachments": {},
   "cell_type": "markdown",
   "id": "bec8f549-d17c-436e-84d1-a4da3b14c576",
   "metadata": {},
   "source": [
    "Architecture;\n",
    "\n",
    "I chose to use an LSTM for this task. LSTM have the benefit of being able to deal with time gaps compared to RNNs, which can be benefitial for time series data. Especially if the data contains complex patterns that span over long time periods. However just looking at the values in X, they seem to be repetetive (however I'm no medical professional), which might indicate that an RNN would be doing fine for this task as well.\n",
    "\n",
    "I did a pretty straightforward implementation of an LSTM;\n",
    "\n",
    "Weight;\n",
    "I used weights for label balancing. As NORM was a majority label. Without weights, my model predicted NORM more than the others.\n",
    "\n",
    "Dropout;\n",
    "I used dropout in order to prevent overfitting by introducing randomness into the training process.\n",
    "\n",
    "Normalization;\n",
    "I used normalization in order to avoid outliers in the data to have too much of an affect of the outcome of the model.\n",
    "\n",
    "I used BCEWithLogitsLoss because it's good for multi-label classification. It is particularly well-suited for problems where you need to make these kinds of binary decisions for each class independently. I used multi-labels (MultiLabelBinarizer) because is designed to handle cases where each sample can belong to multiple categories, which makes it good for the diagnostic_superclass data, which otherwise would have many categories. I thought it would be more effective for training to only have 5 labels, instead of 10+ categories.\n",
    "\n",
    "Number of layers;\n",
    "Without tabular data: I did not notice much difference changing the number of layers used. Except for when number of hidden layers were 1, then the performance of the model was very poor. I tested hidden layers 1,2,3,4,5,10. With 10 layers training the model got too slow to train. I used 2 layers for all my other tests.\n",
    "\n",
    "With tabular data: I found hidden_layers 2 to be good. 1,3,4 gave worse results, I didn't try any other number of hidden layers for tabular data as I assumed them also to be worse. My intuition was that I needed a higher number of layers for tabular data added, as there was more input information and thus more model complexity was needed, however I was wrong in that assesment. With more layers (e.g. 4), the model started to overfit to the parameters earlier than with fewer layers (2). I also tested increasing the number of hidden_size, but with no success.\n",
    "\n",
    "\n",
    "\n",
    "------\n",
    "\n",
    "Training strategy, epochs, dropouts or early stopping;\n",
    "I first used StepLR scheduler and experimented with low batch sizes (around 10,20,30,40,50, etc). I initially got lower losses, however the training losses fluctuated more with lower batch sizes.\r\n",
    "With higher batch sizes (128) I got more stable training losses , and it was much faster to train.  My validation losses were always quite stable, but not training losses. I tried using a different scheduler (ReduceLROnPlateau) in order to adjust the learning rate based on the performance of the model in order to reduce training loss fluctuations. This made the loss more stable. I also experimented with lowering the learning rate which helped, but it made training slower.\r\n",
    "\r\n",
    "I tried early stopping based on if training losses and validation losses both increased during the epoch. However I noticed that sometimes the validation loss would increase from e.g. 0.4722 to 0.4765 over 10 epochs, however the training loss would go from 0.4850 to 0.3450 during the same time. Which my simple early stopper would not consider an improvement, even though it was an improvement. So I switched to doing 50 epochs flat, and after training looking at the combined graph of training and validation losses in order to make an educated guess as to which epoch number was the best for training instead. I experimented with setting a train-validation-loss-tolerance in my early-stopper, so that it'd e.g. tolerate a 1% increase in validation loss if it meant a 10% decrease in training loss. However I found finickyult to fine-tune and I instead opted ftraininging a flat number of epocduringfor runtime and looking at the training and validation loss graph afterwards, in order to spot the best epo\n",
    "\n",
    "I found dropouts of 0.2 to give highest overall scores (at first I started at 0, and tested up to 0.5). \n",
    "\n",
    "I found hidden size of 128 to be fine. If it was too large then training got quite slow.\n",
    "\n",
    "\n",
    "\n",
    "--------\n",
    "\n",
    "Choice of error scores used;\r\n",
    "As I used multi-label classification, I tried to take into consideration mostly AUC ROC, F1 (micro), and hamming loss. As well as testing and validation loss. Due to having imbalanced classes; precision, recall, F1 score, and Hamming loss can provide more insight than accuracy. AUC ROC is useful for evaluating the model's discriminative ability for multi-label classification. Hamming loss is useful to see  the fraction of labels that are incorrectly predicted, especially for multi-label classification where hamming loss accounts for the prediction error across all labels. A low testing loss indicates better generalization and  a low validation loss indicates that the model isn't overfitting. F1 score is useful as a single metric  for precision and recall and works well with class imbalances. I used validation loss and testing loss for model selectio, however validation loss was pretty much always the limiting factor and thus had more of an impact in which model was chosenn. I tried to look at a combination of these metrics to get a holistic view of my model's performance.\r\n",
    "\r\n",
    "I didn't really look at Accuracy as it doesn't account for the imbalance between classes or the fact that multiple labels can be corre\n",
    "\n",
    "\n",
    "improvements;\n",
    "I could probably experiment more with data cleaning for the tabular data. As well as test encoding the tabular data separately from the time series data and merging it with the LSTM's output, instead of merging the tabular data with time series data into one numpy array directly, like I did in my model. \n",
    "\n",
    "\n",
    "\n",
    "Performance of models;\n",
    "Here are some of the models with best results from adding different settings;\n",
    "\n",
    "My best performing model is: Lstm_56202402292107, it has a slightly higher validation loss than lstm_55_202402281807 suggesting overfitting, however Lstm_56202402292107 has lower Hamming loss which indicates that it indeed doesn't have higher overfitting. It has the highest AUC-ROC-score and F1-score which indicates it's best at predicting each of the labels separetly, which is important as this is a multi-label-classification task.\n",
    "\n",
    "For my model with tabular data (Lstm_53202403011000); I got an increase in validation loss faster compared to my other models, after only 40 epochs. However it's not a better model compared to my other models. I suspect the increase in validation loss is due to increased number of parameters, which makes the model more easily get overtrained. And the parameters of the tabular data perhaps aren't that good in helping the model classify the labels.\n",
    "\n",
    "\n",
    "\n",
    "\n",
    "Baseline model: Lstm_58_202402291630\n",
    "Settings\n",
    "\t• batch size training =20\n",
    "\t• Dropout rate= 0.2\n",
    "\t• Epochs = 10 (fixed)\n",
    "\t• Weight not used\n",
    "\t• Normalization not used\n",
    "    • Without tabular data.\n",
    "Result\n",
    "    Accuracy: 0.5815996301433195\n",
    "    Precision (Micro): 0.7830148619957538\n",
    "    Recall (Micro): 0.6583363084612638\n",
    "    F1 Score (Micro): 0.7152831652443755\n",
    "    Hamming Loss: 0.13573740175681923\n",
    "    Auc Roc: 0.7972864472179042\n",
    "\tTraining Loss: 0.3191\n",
    "    Validation Loss: 0.4799\n",
    "\n",
    "Model with added weight: \n",
    "lstm_55_20240228180t\r\n",
    "Settings\r\n",
    "\t• batch size training tch)\r\n",
    "\t• Dropout rate= 0.5epochs = 21 (derived from looking at training and validation loss graph after fixed epoch training)s set.\r\n",
    "\t• Weight used\r\n",
    "\t• Normalization \n",
    "    • Without tabular data.not used    Asult\r\n",
    "\t• Accuracy: 0.5510864    539990754\r",
    "Precision (Micro): 0.7073807    968647943\r",
    "Recall (Micro): 0.7732952    516958229\r",
    "F1 Score (Micro): 0.7388708    852123487\r",
    "Hamming Loss: 0.14156264    447526584\r",
    "Auc Roc: 0.830745\n",
    "    Training loss: 0.3421\n",
    "    Validation Loss: 0.446645 Training Loadded ss: 0.3191\r\n",
    "\r",
    ": Model with normalization\r\n",
    "Lstm_49_202402291648\r\n",
    "Settin4ss larger than traininut repochs = 17 (derived from looking at training and validation loss graph after fixed epoch training)er than 0.5)\r\n",
    "\t• 10 epochs set.\r\n",
    "\t• Weigh\n",
    "    • Without tabular data.t not use    \r\n",
    "\t• With normalization\r\n",
    "Resu    lt:\r\n",
    "\tAccuracy: 0.4932963476652797\r",
    "Pre    cision (Micro): 0.6507472384665367\r",
    "    Recall (Micro): 0.7151017493752231\r",
    "F1     Score (Micro): 0.6814084027895901    \r",
    "Hamming Loss: 0.17318539066    882\r",
    "Auc Roc: 0.7904\n",
    "    Validation Loss: 0.4566807474103467\r\n",
    "\t• Training lo: s: 0.37\r\n",
    "\r\n",
    "\r\n",
    "Model  (Best so far)with early stopping\r\n",
    "Lstm1286202402292107\r\n",
    "Settings\r\n",
    "Epochs = dynamic =20\r\n",
    "\t• Dropout rate= 0.2\r\n",
    "\t• Early \n",
    "    • Without tabular data.dropout\r",
    "    \t• Weight used\r\n",
    "\t• With norma    lization\r\n",
    "Result\r\n",
    "\tAccuracy: 0.5649560    795191864\r",
    "Precision (Micro): 0.7101    590392729633\r",
    "Recall (Micro): 0.781149    5894323456\r",
    "F1 Score (Micro): 0.7    439646378782727\r",
    "Hamming Los\n",
    "    Training loss: 0.3696\n",
    "    Validation Loss: 0.4766\n",
    "\n",
    "sModel with added\n",
    "\r\n",
    "0.3696, Va: idation Loss: 0.4766\r\n",
    "\r\n",
    "\r\n",
    "\r\n",
    "\r\n",
    "Combined with 128bular data\r\n",
    "Lstm_53202403011000\r\n",
    "Setting=20\r\n",
    "\t• Dropout rate= 0.2\r\n",
    "\t• Epoch = dynamic\r\n",
    "\t• Early dropout\r\n",
    "\t• Weight used\r\n",
    "\t• With normalizati\t• on\r\n",
    "\t• With tabular data.\r\n",
    "Result:\r\n",
    "\t•\t•  Accuracy: 0.5386037910309754\r",
    "Preci\t• sion (Micro): 0.6869958050984188\r",
    "Reca\t• ll (Micro): 0.7600856836843984\r",
    "F1 \t• Score (Micro): 0.7216949152542375\r",
    "Hamming Loss: 0.1\n",
    "\t• 82616736014795\r",
    "Auc Roc:\n",
    "vertrained. But the quality of these parameters aren't that good.\r\n",
    "\r\n",
    "\r\n",
    "\n",
    "\n",
    "ct.(2).ch."
   ]
  },
  {
   "cell_type": "code",
   "execution_count": null,
   "id": "fc4af0b6-0dd6-44b3-832b-538241a1ae66",
   "metadata": {},
   "outputs": [],
   "source": []
  },
  {
   "cell_type": "code",
   "execution_count": null,
   "id": "42ad0041-dd55-47b7-88f7-a3d566d8a3a9",
   "metadata": {},
   "outputs": [],
   "source": []
  },
  {
   "cell_type": "code",
   "execution_count": null,
   "id": "d9c5975d-6a86-4cf6-8ca5-172ad91cbaf6",
   "metadata": {},
   "outputs": [],
   "source": []
  }
 ],
 "metadata": {
  "kernelspec": {
   "display_name": "Python 3 (ipykernel)",
   "language": "python",
   "name": "python3"
  },
  "language_info": {
   "codemirror_mode": {
    "name": "ipython",
    "version": 3
   },
   "file_extension": ".py",
   "mimetype": "text/x-python",
   "name": "python",
   "nbconvert_exporter": "python",
   "pygments_lexer": "ipython3",
   "version": "3.9.18"
  }
 },
 "nbformat": 4,
 "nbformat_minor": 5
}
